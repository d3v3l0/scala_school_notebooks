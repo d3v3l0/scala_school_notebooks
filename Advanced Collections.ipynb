{
  "nbformat": 3,
  "nbformat_minor": 0,
  "worksheets": [
    {
      "cells": [
        {
          "source": [
            "Scala provides a nice set of collection implementations. It also provides some abstractions for collection types. This allows you to write code that can work with a collection of `Foo`s without worrying whether that collection is a `List`, `Set`, or what-have-you.",
            "",
            "[This page](http://www.decodified.com/scala/collections-api.xml) offers a great way to follow the default implementations and links to all the scaladoc.",
            "",
            "* Basics",
            "* Hierarchy",
            "* Methods",
            "* Mutable",
            "* Java collections"
          ],
          "cell_type": "markdown"
        },
        {
          "source": [
            "The basics"
          ],
          "cell_type": "heading",
          "level": 1
        },
        {
          "source": [
            "List"
          ],
          "cell_type": "heading",
          "level": 1
        },
        {
          "source": [
            "The standard linked list."
          ],
          "cell_type": "markdown"
        },
        {
          "input": [
            "List(1, 2, 3)"
          ],
          "cell_type": "code",
          "collapsed": false,
          "outputs": [
            {
              "output_type": "pyout",
              "text": [
                "List(1, 2, 3)"
              ]
            }
          ]
        },
        {
          "source": [
            "You can cons them up as you would expect in a functional language."
          ],
          "cell_type": "markdown"
        },
        {
          "input": [
            "1 :: 2 :: 3 :: Nil"
          ],
          "cell_type": "code",
          "collapsed": false,
          "outputs": [
            {
              "output_type": "pyout",
              "text": [
                "List(1, 2, 3)"
              ]
            }
          ]
        },
        {
          "source": [
            "*See also* [API doc](http://www.scala-lang.org/api/current/scala/collection/immutable/List.html)"
          ],
          "cell_type": "markdown"
        },
        {
          "source": [
            "Set"
          ],
          "cell_type": "heading",
          "level": 1
        },
        {
          "source": [
            "Sets have no duplicates"
          ],
          "cell_type": "markdown"
        },
        {
          "input": [
            "Set(1, 1, 2)"
          ],
          "cell_type": "code",
          "collapsed": false,
          "outputs": [
            {
              "output_type": "pyout",
              "text": [
                "Set(1, 2)"
              ]
            }
          ]
        },
        {
          "source": [
            "*See also* [API doc](http://www.scala-lang.org/api/current/scala/collection/immutable/Set.html)"
          ],
          "cell_type": "markdown"
        },
        {
          "source": [
            "Seq"
          ],
          "cell_type": "heading",
          "level": 1
        },
        {
          "source": [
            "Sequences have a defined order."
          ],
          "cell_type": "markdown"
        },
        {
          "input": [
            "Seq(1, 1, 2)"
          ],
          "cell_type": "code",
          "collapsed": false,
          "outputs": [
            {
              "output_type": "pyout",
              "text": [
                "List(1, 1, 2)"
              ]
            }
          ]
        },
        {
          "source": [
            "(Notice that returned a List. `Seq` is a trait; List is a lovely implementation of Seq. There's a factory object `Seq` which, as you see here, creates Lists.)",
            "",
            "*See also* [API doc](http://www.scala-lang.org/api/current/scala/collection/Seq.html)"
          ],
          "cell_type": "markdown"
        },
        {
          "source": [
            "Map"
          ],
          "cell_type": "heading",
          "level": 1
        },
        {
          "source": [
            "Maps are key value containers."
          ],
          "cell_type": "markdown"
        },
        {
          "input": [
            "Map('a' -> 1, 'b' -> 2)"
          ],
          "cell_type": "code",
          "collapsed": false,
          "outputs": [
            {
              "output_type": "pyout",
              "text": [
                "Map((a,1), (b,2))"
              ]
            }
          ]
        },
        {
          "source": [
            "*See also* [API doc](http://www.scala-lang.org/api/current/scala/collection/immutable/Map.html)"
          ],
          "cell_type": "markdown"
        },
        {
          "source": [
            "The Hierarchy"
          ],
          "cell_type": "heading",
          "level": 1
        },
        {
          "source": [
            "These are all traits, both the mutable and immutable packages have implementations of these as well as specialized implementations."
          ],
          "cell_type": "markdown"
        },
        {
          "source": [
            "Traversable"
          ],
          "cell_type": "heading",
          "level": 1
        },
        {
          "source": [
            "All collections can be traversed. This trait defines standard function combinators. These combinators are written in terms of `foreach`, which collections must implement.",
            "",
            "*See Also* [API doc](http://www.scala-lang.org/api/current/scala/collection/Traversable.html)"
          ],
          "cell_type": "markdown"
        },
        {
          "source": [
            "Iterable"
          ],
          "cell_type": "heading",
          "level": 1
        },
        {
          "source": [
            "Has an `iterator()` method to give you an Iterator over the elements.",
            "",
            "*See Also* [API doc](http://www.scala-lang.org/api/current/scala/collection/Iterable.html)"
          ],
          "cell_type": "markdown"
        },
        {
          "source": [
            "Seq"
          ],
          "cell_type": "heading",
          "level": 1
        },
        {
          "source": [
            "Sequence of items with ordering.",
            "",
            "*See Also* [API doc](http://www.scala-lang.org/api/current/scala/collection/Seq.html)"
          ],
          "cell_type": "markdown"
        },
        {
          "source": [
            "Set"
          ],
          "cell_type": "heading",
          "level": 1
        },
        {
          "source": [
            "A collection of items with no duplicates.",
            "",
            "*See Also* [API doc](http://www.scala-lang.org/api/current/scala/collection/immutable/Set.html)"
          ],
          "cell_type": "markdown"
        },
        {
          "source": [
            "Map"
          ],
          "cell_type": "heading",
          "level": 1
        },
        {
          "source": [
            "Key Value Pairs.",
            "",
            "*See Also* [API doc](http://www.scala-lang.org/api/current/scala/collection/immutable/Map.html)"
          ],
          "cell_type": "markdown"
        },
        {
          "source": [
            "The methods"
          ],
          "cell_type": "heading",
          "level": 1
        },
        {
          "source": [
            "Traversable"
          ],
          "cell_type": "heading",
          "level": 1
        },
        {
          "source": [
            "All of these methods below are available all the way down. The argument and return types types won't always look the same as subclasses are free to override them.",
            "",
            "```",
            "def head : A",
            "def tail : Traversable[A]",
            "```",
            "",
            "Here are where the Functional Combinators are defined.",
            "",
            "```",
            "def map [B] (f: (A) => B) : CC[B]",
            "```",
            "",
            "returns a collection with every element transformed by `f`",
            "",
            "```",
            "def foreach[U](f: Elem => U): Unit",
            "```",
            "",
            "executes `f` over each element in a collection.",
            "",
            "```",
            "def find (p: (A) => Boolean) : Option[A]",
            "```",
            "",
            "returns the first element that matches the predicate function",
            "",
            "```",
            "def filter (p: (A) => Boolean) : Traversable[A]",
            "```",
            "",
            "returns a collection with all elements matching the predicate function",
            "",
            "Partitioning:",
            "",
            "```",
            "def partition (p: (A) \u21d2 Boolean) : (Traversable[A], Traversable[A])",
            "```",
            "",
            "Splits a collection into two halves based on a predicate function",
            "",
            "```",
            "def groupBy [K] (f: (A) => K) : Map[K, Traversable[A]]",
            "```",
            "",
            "Conversion:",
            "",
            "Interestingly, you can convert one collection type to another.",
            "",
            "```",
            "def toArray : Array[A]",
            "def toArray [B >: A] (implicit arg0: ClassManifest[B]) : Array[B]",
            "def toBuffer [B >: A] : Buffer[B]",
            "def toIndexedSeq [B >: A] : IndexedSeq[B]",
            "def toIterable : Iterable[A]",
            "def toIterator : Iterator[A]",
            "def toList : List[A]",
            "def toMap [T, U] (implicit ev: <:<[A, (T, U)]) : Map[T, U]",
            "def toSeq : Seq[A]",
            "def toSet [B >: A] : Set[B]",
            "def toStream : Stream[A]",
            "def toString () : String",
            "def toTraversable : Traversable[A]",
            "```",
            "",
            "Let's convert a Map to an Array. You get an Array of the Key Value pairs."
          ],
          "cell_type": "markdown"
        },
        {
          "input": [
            "Map(1 -> 2).toArray"
          ],
          "cell_type": "code",
          "collapsed": false,
          "outputs": [
            {
              "output_type": "pyout",
              "text": [
                "Array((1,2))"
              ]
            }
          ]
        },
        {
          "source": [
            "Iterable"
          ],
          "cell_type": "heading",
          "level": 1
        },
        {
          "source": [
            "Adds access to an iterator.",
            "",
            "```",
            "  def iterator: Iterator[A]",
            "```",
            "",
            "What does an Iterator give you?",
            "",
            "```",
            "def hasNext(): Boolean",
            "def next(): A",
            "```",
            "",
            "This is very Java-esque. You often won't see iterators used in Scala, you are much more likely to see the functional combinators or a for-comprehension used."
          ],
          "cell_type": "markdown"
        },
        {
          "source": [
            "Set"
          ],
          "cell_type": "heading",
          "level": 1
        },
        {
          "source": [
            "```",
            "  def contains(key: A): Boolean",
            "  def +(elem: A): Set[A]",
            "  def -(elem: A): Set[A]",
            "```"
          ],
          "cell_type": "markdown"
        },
        {
          "source": [
            "Map"
          ],
          "cell_type": "heading",
          "level": 1
        },
        {
          "source": [
            "Sequence of key and value pairs with lookup by key.",
            "",
            "Pass a List of Pairs into apply() like so"
          ],
          "cell_type": "markdown"
        },
        {
          "input": [
            "Map(\"a\" -> 1, \"b\" -> 2)"
          ],
          "cell_type": "code",
          "collapsed": false,
          "outputs": [
            {
              "output_type": "pyout",
              "text": [
                "Map((a,1), (b,2))"
              ]
            }
          ]
        },
        {
          "source": [
            "Or also like:"
          ],
          "cell_type": "markdown"
        },
        {
          "input": [
            "Map((\"a\", 2), (\"b\", 2))"
          ],
          "cell_type": "code",
          "collapsed": false,
          "outputs": [
            {
              "output_type": "pyout",
              "text": [
                "Map((a,2), (b,2))"
              ]
            }
          ]
        },
        {
          "source": [
            "h6. Digression",
            "",
            "What is `->`? That isn't special syntax, it's a method that returns a Tuple."
          ],
          "cell_type": "markdown"
        },
        {
          "input": [
            "\"a\" -> 2"
          ],
          "cell_type": "code",
          "collapsed": false,
          "outputs": [
            {
              "output_type": "pyout",
              "text": [
                "(a,2)"
              ]
            }
          ]
        },
        {
          "source": [
            "Remember, that is just sugar for"
          ],
          "cell_type": "markdown"
        },
        {
          "input": [
            "\"a\".->(2)"
          ],
          "cell_type": "code",
          "collapsed": false,
          "outputs": [
            {
              "output_type": "pyout",
              "text": [
                "(a,2)"
              ]
            }
          ]
        },
        {
          "source": [
            "You can also build one up via `++`"
          ],
          "cell_type": "markdown"
        },
        {
          "input": [
            "Map.empty ++ List((\"a\", 1), (\"b\", 2), (\"c\", 3))"
          ],
          "cell_type": "code",
          "collapsed": false,
          "outputs": [
            {
              "output_type": "pyout",
              "text": [
                "Map((a,1), (b,2), (c,3))"
              ]
            }
          ]
        },
        {
          "source": [
            "Commonly-used subclasses"
          ],
          "cell_type": "heading",
          "level": 1
        },
        {
          "source": [
            "*HashSet and HashMap* Quick lookup, the most commonly used forms of these collections. [HashSet API](http://www.scala-lang.org/api/current/scala/collection/immutable/HashSet.html), [HashMap API](http://www.scala-lang.org/api/current/scala/collection/immutable/HashMap.html)",
            "",
            "*TreeMap* A subclass of SortedMap, it gives you ordered access. [TreeMap API](http://www.scala-lang.org/api/current/scala/collection/immutable/TreeMap.html)",
            "",
            "*Vector* Fast random selection and fast updates. [Vector API](http://www.scala-lang.org/api/current/scala/collection/immutable/Vector.html)"
          ],
          "cell_type": "markdown"
        },
        {
          "input": [
            "IndexedSeq(1, 2, 3)"
          ],
          "cell_type": "code",
          "collapsed": false,
          "outputs": [
            {
              "output_type": "pyout",
              "text": [
                "Vector(1, 2, 3)"
              ]
            }
          ]
        },
        {
          "source": [
            "*Range* Ordered sequence of Ints that are spaced apart. You will often see this used where a counting for-loop was used before. [Range API](http://www.scala-lang.org/api/current/scala/collection/immutable/Range.html)"
          ],
          "cell_type": "markdown"
        },
        {
          "input": [
            "for (i <- 1 to 3) { println(i) }",
            "1",
            "2",
            "3"
          ],
          "cell_type": "code",
          "collapsed": false,
          "outputs": []
        },
        {
          "source": [
            "Ranges have the standard functional combinators available to them."
          ],
          "cell_type": "markdown"
        },
        {
          "input": [
            "(1 to 3).map { i => i }"
          ],
          "cell_type": "code",
          "collapsed": false,
          "outputs": [
            {
              "output_type": "pyout",
              "text": [
                "Vector(1, 2, 3)"
              ]
            }
          ]
        },
        {
          "source": [
            "Defaults"
          ],
          "cell_type": "heading",
          "level": 1
        },
        {
          "source": [
            "Using apply methods on the traits will give you an instance of the default implementation, For instance, Iterable(1, 2) returns a List as its default implementation."
          ],
          "cell_type": "markdown"
        },
        {
          "input": [
            "Iterable(1, 2)"
          ],
          "cell_type": "code",
          "collapsed": false,
          "outputs": [
            {
              "output_type": "pyout",
              "text": [
                "List(1, 2)"
              ]
            }
          ]
        },
        {
          "source": [
            "Same with Seq, as we saw earlier"
          ],
          "cell_type": "markdown"
        },
        {
          "input": [
            "Seq(1, 2)"
          ],
          "cell_type": "code",
          "collapsed": false,
          "outputs": [
            {
              "output_type": "pyout",
              "text": [
                "List(1, 2)"
              ]
            }
          ]
        },
        {
          "input": [
            "Iterable(1, 2)"
          ],
          "cell_type": "code",
          "collapsed": false,
          "outputs": [
            {
              "output_type": "pyout",
              "text": [
                "List(1, 2)"
              ]
            }
          ]
        },
        {
          "input": [
            "Sequence(1, 2)"
          ],
          "cell_type": "code",
          "collapsed": false,
          "outputs": [
            {
              "output_type": "pyout",
              "text": [
                "List(1, 2)"
              ]
            }
          ]
        },
        {
          "source": [
            "Set"
          ],
          "cell_type": "markdown"
        },
        {
          "input": [
            "Set(1, 2)"
          ],
          "cell_type": "code",
          "collapsed": false,
          "outputs": [
            {
              "output_type": "pyout",
              "text": [
                "Set(1, 2)"
              ]
            }
          ]
        },
        {
          "source": [
            "Some descriptive traits"
          ],
          "cell_type": "heading",
          "level": 1
        },
        {
          "source": [
            "*IndexedSeq* fast random-access of elements and a fast length operation. [API doc](http://www.scala-lang.org/api/current/scala/collection/IndexedSeq.html)",
            "",
            "*LinearSeq* fast access only to the first element via head, but also has a fast tail operation. [API doc](http://www.scala-lang.org/api/current/scala/collection/LinearSeq.html)"
          ],
          "cell_type": "markdown"
        },
        {
          "source": [
            "Mutable vs. Immutable"
          ],
          "cell_type": "heading",
          "level": 1
        },
        {
          "source": [
            "immutable",
            "",
            "Pros",
            "* Can't change in multiple threads",
            "",
            "Con",
            "* Can't change at all",
            "",
            "Scala allows us to be pragmatic, it encourages immutability but does not penalize us for needing mutability. This is very similar to `var` vs. `val`. We always start with val and move back to var when required.",
            "",
            "We favor starting with the immutable versions of collections but switching to the mutable ones if performance dictates. Using immutable collections means you won't accidentally change things in multiple threads."
          ],
          "cell_type": "markdown"
        },
        {
          "source": [
            "Mutable"
          ],
          "cell_type": "heading",
          "level": 1
        },
        {
          "source": [
            "All of the above classes we've discussed were immutable. Let's discuss the commonly used mutable collections.",
            "",
            "*HashMap* defines `getOrElseUpdate`, `+=` [HashMap API](http://www.scala-lang.org/api/current/scala/collection/mutable/HashMap.html)"
          ],
          "cell_type": "markdown"
        },
        {
          "input": [
            "val numbers = collection.mutable.Map(1 -> 2)"
          ],
          "cell_type": "code",
          "collapsed": false,
          "outputs": [
            {
              "output_type": "pyout",
              "text": [
                "Map((1,2))"
              ]
            }
          ]
        },
        {
          "input": [
            "numbers.get(1)"
          ],
          "cell_type": "code",
          "collapsed": false,
          "outputs": [
            {
              "output_type": "pyout",
              "text": [
                "Some(2)"
              ]
            }
          ]
        },
        {
          "input": [
            "numbers.getOrElseUpdate(2, 3)"
          ],
          "cell_type": "code",
          "collapsed": false,
          "outputs": [
            {
              "output_type": "pyout",
              "text": [
                "3"
              ]
            }
          ]
        },
        {
          "input": [
            "numbers"
          ],
          "cell_type": "code",
          "collapsed": false,
          "outputs": [
            {
              "output_type": "pyout",
              "text": [
                "Map((2,3), (1,2))"
              ]
            }
          ]
        },
        {
          "input": [
            "numbers += (4 -> 1)"
          ],
          "cell_type": "code",
          "collapsed": false,
          "outputs": [
            {
              "output_type": "pyout",
              "text": [
                "Map((2,3), (4,1), (1,2))"
              ]
            }
          ]
        },
        {
          "source": [
            "*ListBuffer and ArrayBuffer* Defines `+=` [ListBuffer API](http://www.scala-lang.org/api/current/scala/collection/mutable/ListBuffer.html), [ArrayBuffer API](http://www.scala-lang.org/api/current/scala/collection/mutable/ArrayBuffer.html)",
            "",
            "*LinkedList and DoubleLinkedList* [LinkedList API](http://www.scala-lang.org/api/current/scala/collection/mutable/LinkedList.html), [DoubleLinkedList API](http://www.scala-lang.org/api/current/scala/collection/mutable/DoubleLinkedList.html)",
            "",
            "*PriorityQueue* [API doc](http://www.scala-lang.org/api/current/scala/collection/mutable/PriorityQueue.html)",
            "",
            "*Stack and ArrayStack* [Stack API](http://www.scala-lang.org/api/current/scala/collection/mutable/Stack.html), [ArrayStack API](http://www.scala-lang.org/api/current/scala/collection/mutable/ArrayStack.html)",
            "",
            "*StringBuilder* Interestingly, StringBuilder is a collection. [API doc](http://www.scala-lang.org/api/current/scala/collection/mutable/StringBuilder.html)"
          ],
          "cell_type": "markdown"
        },
        {
          "source": [
            "Life with Java"
          ],
          "cell_type": "heading",
          "level": 1
        },
        {
          "source": [
            "You can easily move between Java and Scala collection types using conversions that are available in the [JavaConverters package](http://www.scala-lang.org/api/current/index.html#scala.collection.JavaConverters$). It decorates commonly-used Java collections with `asScala` methods and Scala collections with `asJava` methods."
          ],
          "cell_type": "markdown"
        },
        {
          "input": [
            "import scala.collection.JavaConverters._",
            "val sl = new scala.collection.mutable.ListBuffer[Int]",
            "val jl : java.util.List[Int] = sl.asJava",
            "val sl2 : scala.collection.mutable.Buffer[Int] = jl.asScala",
            "assert(sl eq sl2)"
          ],
          "cell_type": "code",
          "collapsed": false,
          "outputs": []
        }
      ],
      "metadata": {}
    }
  ],
  "metadata": {}
}