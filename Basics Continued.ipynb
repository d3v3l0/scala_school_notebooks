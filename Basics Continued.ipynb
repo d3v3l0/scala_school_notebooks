{
  "nbformat": 3,
  "nbformat_minor": 0,
  "worksheets": [
    {
      "cells": [
        {
          "source": [
            "This lesson covers:",
            "",
            "* apply",
            "* objects",
            "* Functions are Objects",
            "* packages",
            "* pattern matching",
            "* case classes",
            "* try-catch-finally"
          ],
          "cell_type": "markdown"
        },
        {
          "source": [
            "apply methods"
          ],
          "cell_type": "heading",
          "level": 1
        },
        {
          "source": [
            "apply methods give you a nice syntactic sugar for when a class or object has one main use."
          ],
          "cell_type": "markdown"
        },
        {
          "input": [
            "class Foo {}"
          ],
          "cell_type": "code",
          "collapsed": false,
          "outputs": []
        },
        {
          "input": [
            "object FooMaker {",
            "    def apply() = new Foo",
            "}"
          ],
          "cell_type": "code",
          "collapsed": false,
          "outputs": []
        },
        {
          "input": [
            "val newFoo = FooMaker()"
          ],
          "cell_type": "code",
          "collapsed": false,
          "outputs": [
            {
              "output_type": "pyout",
              "text": [
                "Foo@5b83f762"
              ]
            }
          ]
        },
        {
          "source": [
            "or"
          ],
          "cell_type": "markdown"
        },
        {
          "input": [
            "class Bar {",
            "    def apply() = 0",
            "}"
          ],
          "cell_type": "code",
          "collapsed": false,
          "outputs": []
        },
        {
          "input": [
            "val bar = new Bar"
          ],
          "cell_type": "code",
          "collapsed": false,
          "outputs": [
            {
              "output_type": "pyout",
              "text": [
                "Bar@47711479"
              ]
            }
          ]
        },
        {
          "input": [
            "bar()"
          ],
          "cell_type": "code",
          "collapsed": false,
          "outputs": [
            {
              "output_type": "pyout",
              "text": [
                "0"
              ]
            }
          ]
        },
        {
          "source": [
            "Here our instance object looks like we're calling a method. More on that later!"
          ],
          "cell_type": "markdown"
        },
        {
          "source": [
            "Objects"
          ],
          "cell_type": "heading",
          "level": 1
        },
        {
          "source": [
            "Objects are used to hold single instances of a class. Often used for factories."
          ],
          "cell_type": "markdown"
        },
        {
          "input": [
            "object Timer {",
            "    var count = 0",
            "",
            "    def currentCount(): Long = {",
            "        count += 1",
            "        count",
            "    }",
            "}"
          ],
          "cell_type": "code",
          "collapsed": false,
          "outputs": []
        },
        {
          "source": [
            "How to use"
          ],
          "cell_type": "markdown"
        },
        {
          "input": [
            "Timer.currentCount()"
          ],
          "cell_type": "code",
          "collapsed": false,
          "outputs": [
            {
              "output_type": "pyout",
              "text": [
                "1"
              ]
            }
          ]
        },
        {
          "source": [
            "Classes and Objects can have the same name. The object is called a 'Companion Object'. We commonly use Companion Objects for Factories.",
            "",
            "Here is a trivial example that only serves to remove the need to use 'new' to create an instance."
          ],
          "cell_type": "markdown"
        },
        {
          "input": [
            "class Bar(foo: String)",
            "",
            "object Bar {",
            "    def apply(foo: String) = new Bar(foo)",
            "}"
          ],
          "cell_type": "code",
          "collapsed": false,
          "outputs": []
        },
        {
          "source": [
            "Functions are Objects"
          ],
          "cell_type": "heading",
          "level": 1
        },
        {
          "source": [
            "In Scala, we talk about object-functional programming often. What does that mean? What is a Function, really?",
            "",
            "A Function is a set of traits. Specifically, a function that takes one argument is an instance of a Function1 trait. This trait defines the `apply()` syntactic sugar we learned earlier, allowing you to call an object like you would a function."
          ],
          "cell_type": "markdown"
        },
        {
          "input": [
            "object addOne extends Function1[Int, Int] {",
            "    def apply(m: Int): Int = m + 1",
            "}"
          ],
          "cell_type": "code",
          "collapsed": false,
          "outputs": []
        },
        {
          "input": [
            "addOne(1)"
          ],
          "cell_type": "code",
          "collapsed": false,
          "outputs": [
            {
              "output_type": "pyout",
              "text": [
                "2"
              ]
            }
          ]
        },
        {
          "source": [
            "There is Function1 through 22. Why 22? It's an arbitrary magic number. I've never needed a function with more than 22 arguments so it seems to work out.",
            "",
            "The syntactic sugar of apply helps unify the duality of object and functional programming. You can pass classes around and use them as functions and functions are just instances of classes under the covers.",
            "",
            "Does this mean that every time you define a method in your class, you're actually getting an instance of Function*? No, methods in classes are methods. Methods defined standalone in the repl are Function* instances.",
            "",
            "Classes can also extend Function and those instances can be called with ()."
          ],
          "cell_type": "markdown"
        },
        {
          "input": [
            "class AddOne extends Function1[Int, Int] {",
            "    def apply(m: Int): Int = m + 1",
            "}"
          ],
          "cell_type": "code",
          "collapsed": false,
          "outputs": []
        },
        {
          "input": [
            "val plusOne = new AddOne()"
          ],
          "cell_type": "code",
          "collapsed": false,
          "outputs": [
            {
              "output_type": "pyout",
              "text": [
                "<function1>"
              ]
            }
          ]
        },
        {
          "input": [
            "plusOne(1)"
          ],
          "cell_type": "code",
          "collapsed": false,
          "outputs": [
            {
              "output_type": "pyout",
              "text": [
                "2"
              ]
            }
          ]
        },
        {
          "source": [
            "A nice short-hand for `extends Function1[Int, Int]` is `extends (Int => Int)`."
          ],
          "cell_type": "markdown"
        },
        {
          "input": [
            "class AddOne extends (Int => Int) {",
            "    def apply(m: Int): Int = m + 1",
            "}"
          ],
          "cell_type": "code",
          "collapsed": false,
          "outputs": []
        },
        {
          "source": [
            "Packages"
          ],
          "cell_type": "heading",
          "level": 1
        },
        {
          "source": [
            "You can organize your code inside of packages."
          ],
          "cell_type": "markdown"
        },
        {
          "input": [
            "package com.twitter.example"
          ],
          "cell_type": "code",
          "collapsed": false,
          "outputs": []
        },
        {
          "source": [
            "at the top of a file will declare everything in the file to be in that package.",
            "",
            "Values and functions cannot be outside of a class or object. Objects are a useful tool for organizing static functions."
          ],
          "cell_type": "markdown"
        },
        {
          "input": [
            "package com.twitter.example",
            "",
            "object colorHolder {",
            "    val BLUE = \"Blue\"",
            "    val RED = \"Red\"",
            "}"
          ],
          "cell_type": "code",
          "collapsed": false,
          "outputs": []
        },
        {
          "source": [
            "Now you can access the members directly"
          ],
          "cell_type": "markdown"
        },
        {
          "input": [
            "println(\"the color is: \" + com.twitter.example.colorHolder.BLUE)"
          ],
          "cell_type": "code",
          "collapsed": false,
          "outputs": []
        },
        {
          "source": [
            "Notice what the scala repl says when you define this object:"
          ],
          "cell_type": "markdown"
        },
        {
          "input": [
            "object colorHolder {",
            "    val Blue = \"Blue\"",
            "    val Red = \"Red\"",
            "}"
          ],
          "cell_type": "code",
          "collapsed": false,
          "outputs": []
        },
        {
          "source": [
            "This gives you a small hint that the designers of Scala designed objects to be part of Scala's module system."
          ],
          "cell_type": "markdown"
        },
        {
          "source": [
            "Pattern Matching"
          ],
          "cell_type": "heading",
          "level": 1
        },
        {
          "source": [
            "One of the most useful parts of Scala.",
            "",
            "Matching on values"
          ],
          "cell_type": "markdown"
        },
        {
          "input": [
            "val times = 1",
            "",
            "times match {",
            "  case 1 => \"one\"",
            "  case 2 => \"two\"",
            "  case _ => \"some other number\"",
            "}"
          ],
          "cell_type": "code",
          "collapsed": false,
          "outputs": []
        },
        {
          "source": [
            "Matching with guards"
          ],
          "cell_type": "markdown"
        },
        {
          "input": [
            "times match {",
            "  case i if i == 1 => \"one\"",
            "  case i if i == 2 => \"two\"",
            "  case _ => \"some other number\"",
            "}"
          ],
          "cell_type": "code",
          "collapsed": false,
          "outputs": []
        },
        {
          "source": [
            "Notice how we captured the value in the variable 'i'.",
            "",
            "The `_` in the last case statement is a wildcard; it",
            "ensures that we can handle any statement. Otherwise you will suffer a",
            "runtime error if you pass in a number that doesn't match. We discuss",
            "this more later.",
            "",
            "*See Also* Effective Scala has opinions about [when to use pattern matching](http://twitter.github.com/effectivescala/#Functional programming-Pattern matching) and [pattern matching formatting](http://twitter.github.com/effectivescala/#Formatting-Pattern matching). A Tour of Scala describes [Pattern Matching](http://www.scala-lang.org/node/120)."
          ],
          "cell_type": "markdown"
        },
        {
          "source": [
            "Matching on type"
          ],
          "cell_type": "heading",
          "level": 1
        },
        {
          "source": [
            "You can use `match` to handle values of different types differently."
          ],
          "cell_type": "markdown"
        },
        {
          "input": [
            "def bigger(o: Any): Any = {",
            "    o match {",
            "        case i: Int if i < 0 => i - 1",
            "        case i: Int => i + 1",
            "        case d: Double if d < 0.0 => d - 0.1",
            "        case d: Double => d + 0.1",
            "        case text: String => text + \"s\"",
            "    }",
            "}"
          ],
          "cell_type": "code",
          "collapsed": false,
          "outputs": []
        },
        {
          "source": [
            "Matching on class members"
          ],
          "cell_type": "heading",
          "level": 1
        },
        {
          "source": [
            "Remember our calculator from earlier.",
            "",
            "Let's classify them according to type.",
            "",
            "Here's the painful way first."
          ],
          "cell_type": "markdown"
        },
        {
          "input": [
            "def calcType(calc: Calculator) = calc match {",
            "    case _ if calc.brand == \"hp\" && calc.model == \"20B\" => \"financial\"",
            "    case _ if calc.brand == \"hp\" && calc.model == \"48G\" => \"scientific\"",
            "    case _ if calc.brand == \"hp\" && calc.model == \"30B\" => \"business\"",
            "    case _ => \"unknown\"",
            "}"
          ],
          "cell_type": "code",
          "collapsed": false,
          "outputs": []
        },
        {
          "source": [
            "Wow, that's painful. Thankfully Scala provides some nice tools specifically for this."
          ],
          "cell_type": "markdown"
        },
        {
          "source": [
            "Case Classes"
          ],
          "cell_type": "heading",
          "level": 1
        },
        {
          "source": [
            "case classes are used to conveniently store and match on the contents of a class. You can construct them without using new."
          ],
          "cell_type": "markdown"
        },
        {
          "input": [
            "case class Calculator(brand: String, model: String)"
          ],
          "cell_type": "code",
          "collapsed": false,
          "outputs": []
        },
        {
          "input": [
            "val hp20b = Calculator(\"hp\", \"20b\")"
          ],
          "cell_type": "code",
          "collapsed": false,
          "outputs": [
            {
              "output_type": "pyout",
              "text": [
                "Calculator(hp,20b)",
                ""
              ]
            }
          ]
        },
        {
          "source": [
            "case classes automatically have equality and nice toString methods based on the constructor arguments."
          ],
          "cell_type": "markdown"
        },
        {
          "input": [
            "val hp20b = Calculator(\"hp\", \"20b\")"
          ],
          "cell_type": "code",
          "collapsed": false,
          "outputs": [
            {
              "output_type": "pyout",
              "text": [
                "Calculator(hp,20b)"
              ]
            }
          ]
        },
        {
          "input": [
            "val hp20B = Calculator(\"hp\", \"20b\")"
          ],
          "cell_type": "code",
          "collapsed": false,
          "outputs": [
            {
              "output_type": "pyout",
              "text": [
                "Calculator(hp,20b)"
              ]
            }
          ]
        },
        {
          "input": [
            "hp20b == hp20B"
          ],
          "cell_type": "code",
          "collapsed": false,
          "outputs": [
            {
              "output_type": "pyout",
              "text": [
                "true"
              ]
            }
          ]
        },
        {
          "source": [
            "case classes can have methods just like normal classes."
          ],
          "cell_type": "markdown"
        },
        {
          "source": [
            "Case Classes with pattern matching"
          ],
          "cell_type": "heading",
          "level": 1
        },
        {
          "source": [
            "case classes are designed to be used with pattern matching. Let's simplify our calculator classifier example from earlier."
          ],
          "cell_type": "markdown"
        },
        {
          "input": [
            "val hp20b = Calculator(\"hp\", \"20B\")",
            "val hp30b = Calculator(\"hp\", \"30B\")",
            "",
            "def calcType(calc: Calculator) = calc match {",
            "  case Calculator(\"hp\", \"20B\") => \"financial\"",
            "  case Calculator(\"hp\", \"48G\") => \"scientific\"",
            "  case Calculator(\"hp\", \"30B\") => \"business\"",
            "  case Calculator(ourBrand, ourModel) => \"Calculator: %s %s is of unknown type\".format(ourBrand, ourModel)",
            "}"
          ],
          "cell_type": "code",
          "collapsed": false,
          "outputs": []
        },
        {
          "source": [
            "Other alternatives for that last match",
            "",
            "```",
            "case Calculator(_, _) => \"Calculator of unknown type\"",
            "```",
            "",
            "OR we could simply not specify that it's a Calculator at all.",
            "",
            "```",
            "case _ => \"Calculator of unknown type\"",
            "```",
            "",
            "OR we could re-bind the matched value with another name",
            "",
            "```",
            "case c@Calculator(_, _) => \"Calculator: %s of unknown type\".format(c)",
            "```"
          ],
          "cell_type": "markdown"
        },
        {
          "source": [
            "Exceptions"
          ],
          "cell_type": "heading",
          "level": 1
        },
        {
          "source": [
            "Exceptions are available in Scala via a try-catch-finally syntax that uses pattern matching.",
            "",
            "```",
            "try {",
            "    remoteCalculatorService.add(1, 2)",
            "} catch {",
            "    case e: ServerIsDownException => log.error(e, \"the remote calculator service is unavailable. should have kept your trusty HP.\")",
            "} finally {",
            "    remoteCalculatorService.close()",
            "}",
            "```",
            "",
            "`try`s are also expression-oriented",
            "",
            "```",
            "val result: Int = try {",
            "    remoteCalculatorService.add(1, 2)",
            "} catch {",
            "    case e: ServerIsDownException =>",
            "        log.error(e, \"the remote calculator service is unavailable. should have kept your trusty HP.\")",
            "        0",
            "} finally {",
            "    remoteCalculatorService.close()",
            "}",
            "```",
            "",
            "This is not an example of excellent programming style, just an example of try-catch-finally resulting in expressions like most everything else in Scala.",
            "",
            "Finally will be called after an exception has been handled and is not part of the expression."
          ],
          "cell_type": "markdown"
        }
      ],
      "metadata": {}
    }
  ],
  "metadata": {
    "name": "Basics Continued"
  }
}