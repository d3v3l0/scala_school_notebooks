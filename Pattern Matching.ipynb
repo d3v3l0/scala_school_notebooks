{
  "nbformat": 3,
  "nbformat_minor": 0,
  "worksheets": [
    {
      "cells": [
        {
          "source": [
            "This lesson covers:",
            "",
            "* Function Composition",
            " * compose",
            " * andThen",
            "* Currying vs Partial Application",
            "* PartialFunctions",
            " * range and domain",
            " * composition with orElse",
            "* What is a case statement?"
          ],
          "cell_type": "markdown"
        },
        {
          "source": [
            "Function Composition"
          ],
          "cell_type": "heading",
          "level": 1
        },
        {
          "source": [
            "Let's make two aptly-named functions:"
          ],
          "cell_type": "markdown"
        },
        {
          "input": [
            "def f(s: String) = \"f(\" + s + \")\""
          ],
          "cell_type": "code",
          "collapsed": false,
          "outputs": []
        },
        {
          "input": [
            "def g(s: String) = \"g(\" + s + \")\""
          ],
          "cell_type": "code",
          "collapsed": false,
          "outputs": []
        },
        {
          "source": [
            "compose"
          ],
          "cell_type": "heading",
          "level": 1
        },
        {
          "source": [
            "`compose` makes a new function that composes other functions `f(g(x))`"
          ],
          "cell_type": "markdown"
        },
        {
          "input": [
            "val fComposeG = f _ compose g _"
          ],
          "cell_type": "code",
          "collapsed": false,
          "outputs": [
            {
              "output_type": "pyout",
              "text": [
                "<function>"
              ]
            }
          ]
        },
        {
          "input": [
            "fComposeG(\"yay\")"
          ],
          "cell_type": "code",
          "collapsed": false,
          "outputs": [
            {
              "output_type": "pyout",
              "text": [
                "f(g(yay))"
              ]
            }
          ]
        },
        {
          "source": [
            "andThen"
          ],
          "cell_type": "heading",
          "level": 1
        },
        {
          "source": [
            "`andThen` is like `compose`, but calls the first function and then the second, `g(f(x))`"
          ],
          "cell_type": "markdown"
        },
        {
          "input": [
            "val fAndThenG = f _ andThen g _"
          ],
          "cell_type": "code",
          "collapsed": false,
          "outputs": [
            {
              "output_type": "pyout",
              "text": [
                "<function>"
              ]
            }
          ]
        },
        {
          "input": [
            "fAndThenG(\"yay\")"
          ],
          "cell_type": "code",
          "collapsed": false,
          "outputs": [
            {
              "output_type": "pyout",
              "text": [
                "g(f(yay))"
              ]
            }
          ]
        },
        {
          "source": [
            "Currying vs Partial Application"
          ],
          "cell_type": "heading",
          "level": 1
        },
        {
          "source": [
            "case statements"
          ],
          "cell_type": "heading",
          "level": 1
        },
        {
          "source": [
            "So just what are case statements?"
          ],
          "cell_type": "heading",
          "level": 1
        },
        {
          "source": [
            "It's a subclass of function called a PartialFunction."
          ],
          "cell_type": "markdown"
        },
        {
          "source": [
            "What is a collection of multiple case statements?"
          ],
          "cell_type": "heading",
          "level": 1
        },
        {
          "source": [
            "They are multiple PartialFunctions composed together."
          ],
          "cell_type": "markdown"
        },
        {
          "source": [
            "Understanding PartialFunction"
          ],
          "cell_type": "heading",
          "level": 1
        },
        {
          "source": [
            "A function works for every argument of the defined type. In other words, a function defined as (Int) => String takes any Int and returns a String.",
            "",
            "A Partial Function is only defined for certain values of the defined type. A Partial Function (Int) => String might not accept every Int.",
            "",
            "`isDefinedAt` is a method on PartialFunction that can be used to determine if the PartialFunction will accept a given argument.",
            "",
            "__Note__ `PartialFunction` is unrelated to a partially applied function that we talked about earlier.",
            "",
            "*See Also* Effective Scala has opinions about [PartialFunction](http://twitter.github.com/effectivescala/#Functional programming-Partial functions)."
          ],
          "cell_type": "markdown"
        },
        {
          "input": [
            "val one: PartialFunction[Int, String] = { case 1 => \"one\" }"
          ],
          "cell_type": "code",
          "collapsed": false,
          "outputs": [
            {
              "output_type": "pyout",
              "text": [
                "<function1>"
              ]
            }
          ]
        },
        {
          "input": [
            "one.isDefinedAt(1)"
          ],
          "cell_type": "code",
          "collapsed": false,
          "outputs": [
            {
              "output_type": "pyout",
              "text": [
                "true"
              ]
            }
          ]
        },
        {
          "input": [
            "one.isDefinedAt(2)"
          ],
          "cell_type": "code",
          "collapsed": false,
          "outputs": [
            {
              "output_type": "pyout",
              "text": [
                "false"
              ]
            }
          ]
        },
        {
          "source": [
            "You can apply a partial function."
          ],
          "cell_type": "markdown"
        },
        {
          "input": [
            "one(1)"
          ],
          "cell_type": "code",
          "collapsed": false,
          "outputs": [
            {
              "output_type": "pyout",
              "text": [
                "one"
              ]
            }
          ]
        },
        {
          "source": [
            "PartialFunctions can be composed with something new, called orElse, that reflects whether the PartialFunction is defined over the supplied argument."
          ],
          "cell_type": "markdown"
        },
        {
          "input": [
            "val two: PartialFunction[Int, String] = { case 2 => \"two\" }"
          ],
          "cell_type": "code",
          "collapsed": false,
          "outputs": [
            {
              "output_type": "pyout",
              "text": [
                "<function1>"
              ]
            }
          ]
        },
        {
          "input": [
            "val three: PartialFunction[Int, String] = { case 3 => \"three\" }"
          ],
          "cell_type": "code",
          "collapsed": false,
          "outputs": [
            {
              "output_type": "pyout",
              "text": [
                "<function1>"
              ]
            }
          ]
        },
        {
          "input": [
            "val wildcard: PartialFunction[Int, String] = { case _ => \"something else\" }"
          ],
          "cell_type": "code",
          "collapsed": false,
          "outputs": [
            {
              "output_type": "pyout",
              "text": [
                "<function1>"
              ]
            }
          ]
        },
        {
          "input": [
            "val partial = one orElse two orElse three orElse wildcard"
          ],
          "cell_type": "code",
          "collapsed": false,
          "outputs": [
            {
              "output_type": "pyout",
              "text": [
                "<function1>"
              ]
            }
          ]
        },
        {
          "input": [
            "partial(5)"
          ],
          "cell_type": "code",
          "collapsed": false,
          "outputs": [
            {
              "output_type": "pyout",
              "text": [
                "something else"
              ]
            }
          ]
        },
        {
          "input": [
            "partial(3)"
          ],
          "cell_type": "code",
          "collapsed": false,
          "outputs": [
            {
              "output_type": "pyout",
              "text": [
                "three"
              ]
            }
          ]
        },
        {
          "input": [
            "partial(2)"
          ],
          "cell_type": "code",
          "collapsed": false,
          "outputs": [
            {
              "output_type": "pyout",
              "text": [
                "two"
              ]
            }
          ]
        },
        {
          "input": [
            "partial(1)"
          ],
          "cell_type": "code",
          "collapsed": false,
          "outputs": [
            {
              "output_type": "pyout",
              "text": [
                "one"
              ]
            }
          ]
        },
        {
          "input": [
            "partial(0)"
          ],
          "cell_type": "code",
          "collapsed": false,
          "outputs": [
            {
              "output_type": "pyout",
              "text": [
                "something else"
              ]
            }
          ]
        },
        {
          "source": [
            "The mystery of case."
          ],
          "cell_type": "heading",
          "level": 1
        },
        {
          "source": [
            "Last week we saw something curious. We saw a case statement used where a function is normally used."
          ],
          "cell_type": "markdown"
        },
        {
          "input": [
            "case class PhoneExt(name: String, ext: Int)"
          ],
          "cell_type": "code",
          "collapsed": false,
          "outputs": []
        },
        {
          "input": [
            "val extensions = List(PhoneExt(\"steve\", 100), PhoneExt(\"robey\", 200))"
          ],
          "cell_type": "code",
          "collapsed": false,
          "outputs": [
            {
              "output_type": "pyout",
              "text": [
                "List(PhoneExt(steve,100), PhoneExt(robey,200))"
              ]
            }
          ]
        },
        {
          "input": [
            "extensions.filter { case PhoneExt(name, extension) => extension < 200 }"
          ],
          "cell_type": "code",
          "collapsed": false,
          "outputs": [
            {
              "output_type": "pyout",
              "text": [
                "List(PhoneExt(steve,100))"
              ]
            }
          ]
        },
        {
          "source": [
            "Why does this work?",
            "",
            "filter takes a function. In this case a predicate function of (PhoneExt) => Boolean.",
            "",
            "A PartialFunction is a subtype of Function so filter can also take a PartialFunction!"
          ],
          "cell_type": "markdown"
        }
      ],
      "metadata": {}
    }
  ],
  "metadata": {
    "name": "Pattern Matching"
  }
}