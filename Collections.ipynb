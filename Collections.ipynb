{
  "nbformat": 3,
  "nbformat_minor": 0,
  "worksheets": [
    {
      "cells": [
        {
          "source": [
            "This lesson covers:",
            "",
            "* Basic Data Structures",
            " * Lists",
            " * Sets",
            " * Tuple",
            " * Maps",
            "* Functional Combinators",
            " * map",
            " * foreach",
            " * filter",
            " * zip",
            " * partition",
            " * find",
            " * drop and dropWhile",
            " * foldRight and foldLeft",
            " * flatten",
            " * flatMap",
            " * Generalized functional combinators",
            " * Map?"
          ],
          "cell_type": "markdown"
        },
        {
          "source": [
            "Basic Data Structures"
          ],
          "cell_type": "heading",
          "level": 1
        },
        {
          "source": [
            "Scala provides some nice collections.",
            "",
            "*See Also* Effective Scala has opinions about how to use [collections](http://twitter.github.com/effectivescala/#Collections)."
          ],
          "cell_type": "markdown"
        },
        {
          "source": [
            "Lists"
          ],
          "cell_type": "heading",
          "level": 1
        },
        {
          "input": [
            "val numbers = List(1, 2, 3, 4)"
          ],
          "cell_type": "code",
          "collapsed": false,
          "outputs": [
            {
              "output_type": "pyout",
              "text": [
                "List(1, 2, 3, 4)"
              ]
            }
          ]
        },
        {
          "source": [
            "Sets"
          ],
          "cell_type": "heading",
          "level": 1
        },
        {
          "source": [
            "Sets have no duplicates"
          ],
          "cell_type": "markdown"
        },
        {
          "input": [
            "Set(1, 1, 2)"
          ],
          "cell_type": "code",
          "collapsed": false,
          "outputs": [
            {
              "output_type": "pyout",
              "text": [
                "Set(1, 2)"
              ]
            }
          ]
        },
        {
          "source": [
            "Tuple"
          ],
          "cell_type": "heading",
          "level": 1
        },
        {
          "source": [
            "A tuple groups together simple logical collections of items without using a class."
          ],
          "cell_type": "markdown"
        },
        {
          "input": [
            "val hostPort = (\"localhost\", 80)"
          ],
          "cell_type": "code",
          "collapsed": false,
          "outputs": [
            {
              "output_type": "pyout",
              "text": [
                "(localhost, 80)"
              ]
            }
          ]
        },
        {
          "source": [
            "Unlike case classes, they don't have named accessors, instead they have accessors that are named by their position and is 1-based rather than 0-based."
          ],
          "cell_type": "markdown"
        },
        {
          "input": [
            "hostPort._1"
          ],
          "cell_type": "code",
          "collapsed": false,
          "outputs": [
            {
              "output_type": "pyout",
              "text": [
                "localhost"
              ]
            }
          ]
        },
        {
          "input": [
            "hostPort._2"
          ],
          "cell_type": "code",
          "collapsed": false,
          "outputs": [
            {
              "output_type": "pyout",
              "text": [
                "80"
              ]
            }
          ]
        },
        {
          "source": [
            "Tuples fit with pattern matching nicely.",
            "",
            "```",
            "hostPort match {",
            "  case (\"localhost\", port) => ...",
            "  case (host, port) => ...",
            "}",
            "```",
            "",
            "Tuple has some special sauce for simply making Tuples of 2 values: `->`"
          ],
          "cell_type": "markdown"
        },
        {
          "input": [
            "1 -> 2",
            "(1,2)"
          ],
          "cell_type": "code",
          "collapsed": false,
          "outputs": []
        },
        {
          "source": [
            "*See Also* Effective Scala has opinions about [destructuring bindings](http://twitter.github.com/effectivescala/#Functional programming-Destructuring bindings) (\"unpacking\" a tuple)."
          ],
          "cell_type": "markdown"
        },
        {
          "source": [
            "Maps"
          ],
          "cell_type": "heading",
          "level": 1
        },
        {
          "source": [
            "It can hold basic datatypes."
          ],
          "cell_type": "markdown"
        },
        {
          "input": [
            "Map(1 -> 2)",
            "Map(\"foo\" -> \"bar\")"
          ],
          "cell_type": "code",
          "collapsed": false,
          "outputs": []
        },
        {
          "source": [
            "This looks like special syntax but remember back to our discussion of Tuple that `->` can be use to create Tuples.",
            "",
            "`Map()` also uses that variable argument syntax we learned back in Lesson #1: `Map(1 -> \"one\", 2 -> \"two\")` which expands into `Map((1, \"one\"), (2, \"two\"))` with the first element being the key and the second being the value of the Map.",
            "",
            "Maps can themselves contain Maps or even functions as values."
          ],
          "cell_type": "markdown"
        },
        {
          "input": [
            "Map(1 -> Map(\"foo\" -> \"bar\"))"
          ],
          "cell_type": "code",
          "collapsed": false,
          "outputs": []
        },
        {
          "input": [
            "Map(\"timesTwo\" -> { timesTwo(_) })"
          ],
          "cell_type": "code",
          "collapsed": false,
          "outputs": []
        },
        {
          "source": [
            "Option"
          ],
          "cell_type": "heading",
          "level": 1
        },
        {
          "source": [
            "`Option` is a container that may or may not hold something.",
            "",
            "The basic interface for Option looks like:"
          ],
          "cell_type": "markdown"
        },
        {
          "input": [
            "trait Option[T] {",
            "  def isDefined: Boolean",
            "  def get: T",
            "  def getOrElse(t: T): T",
            "}"
          ],
          "cell_type": "code",
          "collapsed": false,
          "outputs": []
        },
        {
          "source": [
            "Option itself is generic and has two subclasses: `Some[T]` or `None`",
            "",
            "Let's look at an example of how Option is used:",
            "",
            "`Map.get` uses `Option` for its return type. Option tells you that the method might not return what you're asking for."
          ],
          "cell_type": "markdown"
        },
        {
          "input": [
            "val numbers = Map(1 -> \"one\", 2 -> \"two\")"
          ],
          "cell_type": "code",
          "collapsed": false,
          "outputs": [
            {
              "output_type": "pyout",
              "text": [
                "Map((1,one), (2,two))"
              ]
            }
          ]
        },
        {
          "input": [
            "numbers.get(2)"
          ],
          "cell_type": "code",
          "collapsed": false,
          "outputs": [
            {
              "output_type": "pyout",
              "text": [
                "Some(two)"
              ]
            }
          ]
        },
        {
          "input": [
            "numbers.get(3)"
          ],
          "cell_type": "code",
          "collapsed": false,
          "outputs": [
            {
              "output_type": "pyout",
              "text": [
                "None"
              ]
            }
          ]
        },
        {
          "source": [
            "Now our data appears trapped in this `Option`. How do we work with it?",
            "",
            "A first instinct might be to do something conditionally based on the `isDefined` method."
          ],
          "cell_type": "markdown"
        },
        {
          "input": [
            "// We want to multiply the number by two, otherwise return 0.",
            "val result = if (res1.isDefined) {",
            "  res1.get * 2",
            "} else {",
            "  0",
            "}"
          ],
          "cell_type": "code",
          "collapsed": false,
          "outputs": []
        },
        {
          "source": [
            "We would suggest that you use either `getOrElse` or pattern matching to work with this result.",
            "",
            "`getOrElse` lets you easily define a default value."
          ],
          "cell_type": "markdown"
        },
        {
          "input": [
            "val result = res1.getOrElse(0) * 2"
          ],
          "cell_type": "code",
          "collapsed": false,
          "outputs": []
        },
        {
          "source": [
            "Pattern matching fits naturally with `Option`."
          ],
          "cell_type": "markdown"
        },
        {
          "input": [
            "val result = res1 match {",
            "  case Some(n) => n * 2",
            "  case None => 0",
            "}"
          ],
          "cell_type": "code",
          "collapsed": false,
          "outputs": []
        },
        {
          "source": [
            "*See Also* Effective Scala has opinions about [Options](http://twitter.github.com/effectivescala/#Functional programming-Options)."
          ],
          "cell_type": "markdown"
        },
        {
          "source": [
            "Functional Combinators"
          ],
          "cell_type": "heading",
          "level": 1
        },
        {
          "source": [
            "`List(1, 2, 3) map squared` applies the function `squared` to the elements of the the list, returning a new list, perhaps `List(1, 4, 9)`. We call operations like `map` *combinators*. (If you'd like a better definition, you might like [Explanation of combinators](http://stackoverflow.com/questions/7533837/explanation-of-combinators-for-the-working-man) on Stackoverflow.) Their most common use is on the standard data structures."
          ],
          "cell_type": "markdown"
        },
        {
          "source": [
            "map"
          ],
          "cell_type": "heading",
          "level": 1
        },
        {
          "source": [
            "Evaluates a function over each element in the list, returning a list with the same number of elements."
          ],
          "cell_type": "markdown"
        },
        {
          "input": [
            "numbers.map((i: Int) => i * 2)"
          ],
          "cell_type": "code",
          "collapsed": false,
          "outputs": [
            {
              "output_type": "pyout",
              "text": [
                "List(2, 4, 6, 8)"
              ]
            }
          ]
        },
        {
          "source": [
            "or pass in a partially evaluated function"
          ],
          "cell_type": "markdown"
        },
        {
          "input": [
            "def timesTwo(i: Int): Int = i * 2"
          ],
          "cell_type": "code",
          "collapsed": false,
          "outputs": []
        },
        {
          "input": [
            "numbers.map(timesTwo _)"
          ],
          "cell_type": "code",
          "collapsed": false,
          "outputs": [
            {
              "output_type": "pyout",
              "text": [
                "List(2, 4, 6, 8)"
              ]
            }
          ]
        },
        {
          "source": [
            "foreach"
          ],
          "cell_type": "heading",
          "level": 1
        },
        {
          "source": [
            "foreach is like map but returns nothing. foreach is intended for side-effects only."
          ],
          "cell_type": "markdown"
        },
        {
          "input": [
            "numbers.foreach((i: Int) => i * 2)"
          ],
          "cell_type": "code",
          "collapsed": false,
          "outputs": []
        },
        {
          "source": [
            "returns nothing.",
            "",
            "You can try to store the return in a value but it'll be of type Unit (i.e. void)"
          ],
          "cell_type": "markdown"
        },
        {
          "input": [
            "val doubled = numbers.foreach((i: Int) => i * 2)"
          ],
          "cell_type": "code",
          "collapsed": false,
          "outputs": [
            {
              "output_type": "pyout",
              "text": [
                "()"
              ]
            }
          ]
        },
        {
          "source": [
            "filter"
          ],
          "cell_type": "heading",
          "level": 1
        },
        {
          "source": [
            "removes any elements where the function you pass in evaluates to false. Functions that return a Boolean are often called predicate functions."
          ],
          "cell_type": "markdown"
        },
        {
          "input": [
            "numbers.filter((i: Int) => i % 2 == 0)"
          ],
          "cell_type": "code",
          "collapsed": false,
          "outputs": [
            {
              "output_type": "pyout",
              "text": [
                "List(2, 4)"
              ]
            }
          ]
        },
        {
          "input": [
            "def isEven(i: Int): Boolean = i % 2 == 0"
          ],
          "cell_type": "code",
          "collapsed": false,
          "outputs": []
        },
        {
          "input": [
            "numbers.filter(isEven _)"
          ],
          "cell_type": "code",
          "collapsed": false,
          "outputs": [
            {
              "output_type": "pyout",
              "text": [
                "List(2, 4)"
              ]
            }
          ]
        },
        {
          "source": [
            "zip"
          ],
          "cell_type": "heading",
          "level": 1
        },
        {
          "source": [
            "zip aggregates the contents of two lists into a single list of pairs."
          ],
          "cell_type": "markdown"
        },
        {
          "input": [
            "List(1, 2, 3).zip(List(\"a\", \"b\", \"c\"))"
          ],
          "cell_type": "code",
          "collapsed": false,
          "outputs": [
            {
              "output_type": "pyout",
              "text": [
                "List((1,a), (2,b), (3,c))"
              ]
            }
          ]
        },
        {
          "source": [
            "partition"
          ],
          "cell_type": "heading",
          "level": 1
        },
        {
          "source": [
            "`partition` splits a list based on where it falls with respect to a predicate function."
          ],
          "cell_type": "markdown"
        },
        {
          "input": [
            "val numbers = List(1, 2, 3, 4, 5, 6, 7, 8, 9, 10)",
            "numbers.partition(_ %2 == 0)"
          ],
          "cell_type": "code",
          "collapsed": false,
          "outputs": [
            {
              "output_type": "pyout",
              "text": [
                "(List(2, 4, 6, 8, 10),List(1, 3, 5, 7, 9))"
              ]
            }
          ]
        },
        {
          "source": [
            "find"
          ],
          "cell_type": "heading",
          "level": 1
        },
        {
          "source": [
            "find returns the first element of a collection that matches a predicate function."
          ],
          "cell_type": "markdown"
        },
        {
          "input": [
            "numbers.find((i: Int) => i > 5)"
          ],
          "cell_type": "code",
          "collapsed": false,
          "outputs": [
            {
              "output_type": "pyout",
              "text": [
                "Some(6)"
              ]
            }
          ]
        },
        {
          "source": [
            "drop & dropWhile"
          ],
          "cell_type": "heading",
          "level": 1
        },
        {
          "source": [
            "`drop` drops the first i elements"
          ],
          "cell_type": "markdown"
        },
        {
          "input": [
            "numbers.drop(5)"
          ],
          "cell_type": "code",
          "collapsed": false,
          "outputs": [
            {
              "output_type": "pyout",
              "text": [
                "List(6, 7, 8, 9, 10)"
              ]
            }
          ]
        },
        {
          "source": [
            "`dropWhile` removes the first elements that match a predicate function. For example, if we `dropWhile` odd numbers from our list of numbers, `1` gets dropped (but not `3` which is \"shielded\" by `2`)."
          ],
          "cell_type": "markdown"
        },
        {
          "input": [
            "numbers.dropWhile(_ % 2 != 0)"
          ],
          "cell_type": "code",
          "collapsed": false,
          "outputs": [
            {
              "output_type": "pyout",
              "text": [
                "List(2, 3, 4, 5, 6, 7, 8, 9, 10)"
              ]
            }
          ]
        },
        {
          "source": [
            "foldLeft"
          ],
          "cell_type": "heading",
          "level": 1
        },
        {
          "input": [
            "numbers.foldLeft(0)((m: Int, n: Int) => m + n)"
          ],
          "cell_type": "code",
          "collapsed": false,
          "outputs": [
            {
              "output_type": "pyout",
              "text": [
                "55"
              ]
            }
          ]
        },
        {
          "source": [
            "0 is the starting value (Remember that numbers is a List[Int]), and m",
            "acts as an accumulator.",
            "",
            "Seen visually:"
          ],
          "cell_type": "markdown"
        },
        {
          "input": [
            "numbers.foldLeft(0) { (m: Int, n: Int) => println(\"m: \" + m + \" n: \" + n); m + n }"
          ],
          "cell_type": "code",
          "collapsed": false,
          "outputs": [
            {
              "output_type": "pyout",
              "text": [
                "55"
              ]
            }
          ]
        },
        {
          "source": [
            "foldRight"
          ],
          "cell_type": "heading",
          "level": 1
        },
        {
          "source": [
            "Is the same as foldLeft except it runs in the opposite direction."
          ],
          "cell_type": "markdown"
        },
        {
          "input": [
            "numbers.foldRight(0) { (m: Int, n: Int) => println(\"m: \" + m + \" n: \" + n); m + n }"
          ],
          "cell_type": "code",
          "collapsed": false,
          "outputs": [
            {
              "output_type": "pyout",
              "text": [
                "55"
              ]
            }
          ]
        },
        {
          "source": [
            "flatten"
          ],
          "cell_type": "heading",
          "level": 1
        },
        {
          "source": [
            "flatten collapses one level of nested structure."
          ],
          "cell_type": "markdown"
        },
        {
          "input": [
            "List(List(1, 2), List(3, 4)).flatten"
          ],
          "cell_type": "code",
          "collapsed": false,
          "outputs": [
            {
              "output_type": "pyout",
              "text": [
                "List(1, 2, 3, 4)"
              ]
            }
          ]
        },
        {
          "source": [
            "flatMap"
          ],
          "cell_type": "heading",
          "level": 1
        },
        {
          "source": [
            "flatMap is a frequently used combinator that combines mapping and flattening. flatMap takes a function that works on the nested lists and then concatenates the results back together."
          ],
          "cell_type": "markdown"
        },
        {
          "input": [
            "val nestedNumbers = List(List(1, 2), List(3, 4))"
          ],
          "cell_type": "code",
          "collapsed": false,
          "outputs": [
            {
              "output_type": "pyout",
              "text": [
                "List(List(1, 2), List(3, 4))"
              ]
            }
          ]
        },
        {
          "input": [
            "nestedNumbers.flatMap(x => x.map(_ * 2))"
          ],
          "cell_type": "code",
          "collapsed": false,
          "outputs": [
            {
              "output_type": "pyout",
              "text": [
                "List(2, 4, 6, 8)"
              ]
            }
          ]
        },
        {
          "source": [
            "Think of it as short-hand for mapping and then flattening:"
          ],
          "cell_type": "markdown"
        },
        {
          "input": [
            "nestedNumbers.map((x: List[Int]) => x.map(_ * 2)).flatten"
          ],
          "cell_type": "code",
          "collapsed": false,
          "outputs": [
            {
              "output_type": "pyout",
              "text": [
                "List(2, 4, 6, 8)"
              ]
            }
          ]
        },
        {
          "source": [
            "that example calling map and then flatten is an example of the \"combinator\"-like nature of these functions.",
            "",
            "*See Also* Effective Scala has opinions about [flatMap](http://twitter.github.com/effectivescala/#Functional programming-`flatMap`)."
          ],
          "cell_type": "markdown"
        },
        {
          "source": [
            "Generalized functional combinators"
          ],
          "cell_type": "heading",
          "level": 1
        },
        {
          "source": [
            "Now we've learned a grab-bag of functions for working with collections.",
            "",
            "What we'd like is to be able to write our own functional combinators.",
            "",
            "Interestingly, every functional combinator shown above can be written on top of fold. Let's see some examples.",
            "",
            "```",
            "def ourMap(numbers: List[Int], fn: Int => Int): List[Int] = {",
            "  numbers.foldRight(List[Int]()) { (x: Int, xs: List[Int]) =>",
            "    fn(x) :: xs",
            "  }",
            "}",
            "```"
          ],
          "cell_type": "markdown"
        },
        {
          "input": [
            "ourMap(numbers, timesTwo(_))"
          ],
          "cell_type": "code",
          "collapsed": false,
          "outputs": [
            {
              "output_type": "pyout",
              "text": [
                "List(2, 4, 6, 8, 10, 12, 14, 16, 18, 20)"
              ]
            }
          ]
        },
        {
          "source": [
            "Why `List[Int]()`? Scala wasn't smart enough to realize that you wanted an empty list of Ints to accumulate into."
          ],
          "cell_type": "markdown"
        },
        {
          "source": [
            "Map?"
          ],
          "cell_type": "heading",
          "level": 1
        },
        {
          "source": [
            "All of the functional combinators shown work on Maps, too. Maps can be thought of as a list of pairs so the functions you write work on a pair of the keys and values in the Map."
          ],
          "cell_type": "markdown"
        },
        {
          "input": [
            "val extensions = Map(\"steve\" -> 100, \"bob\" -> 101, \"joe\" -> 201)"
          ],
          "cell_type": "code",
          "collapsed": false,
          "outputs": [
            {
              "output_type": "pyout",
              "text": [
                "Map((steve,100), (bob,101), (joe,201))"
              ]
            }
          ]
        },
        {
          "source": [
            "Now filter out every entry whose phone extension is lower than 200."
          ],
          "cell_type": "markdown"
        },
        {
          "input": [
            "extensions.filter((namePhone: (String, Int)) => namePhone._2 < 200)"
          ],
          "cell_type": "code",
          "collapsed": false,
          "outputs": [
            {
              "output_type": "pyout",
              "text": [
                "Map((steve,100), (bob,101))"
              ]
            }
          ]
        },
        {
          "source": [
            "Because it gives you a tuple, you have to pull out the keys and values with their positional accessors. Yuck!",
            "",
            "Lucky us, we can actually use a pattern match to extract the key and value nicely."
          ],
          "cell_type": "markdown"
        },
        {
          "input": [
            "extensions.filter({case (name, extension) => extension < 200})"
          ],
          "cell_type": "code",
          "collapsed": false,
          "outputs": [
            {
              "output_type": "pyout",
              "text": [
                "Map((steve,100), (bob,101))"
              ]
            }
          ]
        }
      ],
      "metadata": {}
    }
  ],
  "metadata": {}
}