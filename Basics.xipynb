This lesson covers:

* About this class
* Expressions
* Values
* Functions
* Classes
* Basic inheritance
* Traits
* Types

## About this class

The first few weeks will cover basic syntax and concepts, then we'll start to open it up with more exercises.

### Why Scala?

* Expressive
 * First-class functions
 * Closures
* Concise
 * Type inference
 * Literal syntax for function creation
* Java interoperability
 * Can reuse java libraries
 * Can reuse java tools
 * No performance penalty

### How Scala?

* Compiles to java bytecode
* Works with any standard JVM
 * Or even some non-standard JVMs like Dalvik
 * Scala compiler written by author of Java compiler

### Think Scala

Scala is not just a nicer Java. You should learn it with a fresh mind; you will get more out of these classes.

## Expressions

```input
1 + 1
```
```output
2
```

`_1` is an automatically created value name given by the interpreter to the result of your expression. It has the type `Int` and contains the integer `2`.

(Almost) everything in Scala is an expression.

## Values

You can give the result of an expression a name.

```input
val two = 1 + 1
```
```output
2
```

You cannot change the binding to a `val`.

### Variables

If you need to change the binding, you can use a `var` instead.

```input
var name = "steve"
```
```output
steve
```

```input
name = "marius"
```
```output
marius
```

## Functions

You can create functions with `def`.

```input
def addOne(m: Int): Int = m + 1
```

In Scala, you need to specify the type signature for function parameters. The interpreter happily repeats the type signature back to you.

```input
val three = addOne(2)
```
```output
3
```

You can leave off parens on functions with no arguments.

```input
def three() = 1 + 2
```

```input
three()
```
```output
3
```

```input
three
```
```output
3
```

### Anonymous Functions

You can create anonymous functions.

```input
val f = (x: Int) => x + 1
```

This function adds 1 to an Int named x.

```input
f(1)
```
```output
2
```

You can pass anonymous functions around or save them into vals.

```input
val addOne = (x: Int) => x + 1
```

```input
addOne(1)
```
```output
2
```

If your function is made up of many expressions, you can use `{}` to give yourself some breathing room.

```input
def timesTwo(i: Int): Int = {
    println("hello world")
    i * 2
}
```

This is also true of an anonymous function.

```input
(i: Int) => {
    println("hello world")
    i * 2
}
```
```output
<function1>
```

You will see this syntax often used when passing an anonymous function as an argument.

### Partial application

You can partially apply a function with an underscore, which gives you another function. Scala uses the underscore to mean different things in different contexts, but you can usually think of it as an unnamed magical wildcard. In the context of `{ _ + 2 }` it means an unnamed parameter. You can use it like so:

```input
def adder(m: Int, n: Int) = m + n
```

```input
val add2 = adder(2, _:Int)
```
```output
<function1>
```

```input
add2(3)
```
```output
5
```

You can partially apply any argument in the argument list, not just the last one.

### Curried functions

Sometimes it makes sense to let people apply some arguments to your function now and others later.

Here's an example of a function that lets you build multipliers of two numbers together. At one call site, you'll decide which is the multiplier and at a later call site, you'll choose a multiplicand.

```input
def multiply(m: Int)(n: Int): Int = m * n
```

You can call it directly with both arguments.

```input
multiply(2)(3)
```
```output
6
```

You can fill in the first parameter and partially apply the second.

```input
val timesTwo = multiply(2) _
```
```output
<function1>
```

```input
timesTwo(3)
```
```output
6
```

You can take any function of multiple arguments and curry it. Let's try with our earlier `adder`

```input
(adder _).curried
```
```output
<function1>
```

### Variable length arguments

There is a special syntax for methods that can take parameters of a repeated type. To apply String's `capitalize` function to several strings, you might write:

```input
def capitalizeAll(args: String*) = {
    args.map { arg =>
        arg.capitalize
    }
}
```

```input
capitalizeAll("rarity", "applejack")
```
```output
ArrayBuffer(Rarity, Applejack)
```

## Classes

```input
class Calculator {
    val brand: String = "HP"
    def add(m: Int, n: Int): Int = m + n
}
```

```input
val calc = new Calculator
```
```output
Calculator@e75a11
```

```input
calc.add(1, 2)
```
```output
3
```

```input
calc.brand
```
```output
"HP"
```

Contained are examples are defining methods with def and fields with `val`. Methods are just functions that can access the state of the class.

### Constructor

Constructors aren't special methods, they are the code outside of method definitions in your class. Let's extend our Calculator example to take a constructor argument and use it to initialize internal state.

```input
class Calculator(brand: String) {
    /**
     * A constructor.
     */
    val color: String = if (brand == "TI") {
        "blue"
    } else if (brand == "HP") {
        "black"
    } else {
        "white"
    }

    // An instance method.
    def add(m: Int, n: Int): Int = m + n
}
```

Note the two different styles of comments.

You can use the constructor to construct an instance:

```input
val calc = new Calculator("HP")
```
```output
Calculator@1e64cc4d
```

```input
calc.color
```
```output
black
```

### Expressions

Our BasicCalculator example gave an example of how Scala is expression-oriented. The value color was bound based on an if/else expression. Scala is highly expression-oriented: most things are expressions rather than statements.

### Aside: Functions vs Methods

Functions and methods are largely interchangeable. Because functions and methods are so similar, you might not remember whether that *thing* you call is a function or a method. When you bump into a difference between methods and functions, it might confuse you.

```input
class C {
    var acc = 0
    def minc = { acc += 1 }
    val finc = { () => acc += 1 }
}
```

```input
val c = new C
```
```output
C@1af1bd6
```

```input
c.minc // calls c.minc()
```

```input
c.finc // returns the function as a value:
```
```output
<function0>
```

When you can call one "function" without parentheses but not another, you might think *Whoops, I thought I knew how Scala functions worked, but I guess not. Maybe they sometimes need parentheses?* You might understand functions, but be using a method.

In practice, you can do great things in Scala while remaining hazy on the difference between methods and functions. If you're new to Scala and read [explanations of the differences](https://www.google.com/search?q=difference+scala+function+method"), you might have trouble following them. That doesn't mean you're going to have trouble using Scala. It just means that the difference between functions and methods is subtle enough such that explanations tend to dig into deep parts of the language.

## Inheritance

```input
class ScientificCalculator(brand: String) extends Calculator(brand) {
    def log(m: Double, base: Double) = math.log(m) / math.log(base)
}
```

*See Also* Effective Scala points out that a [Type alias]("http://twitter.github.com/effectivescala/#Types%20and%20Generics-Type%20aliases") is better than `extends` if the subclass isn't actually different from the superclass. A Tour of Scala describes [Subclassing]("http://www.scala-lang.org/node/125").

### Overloading methods

```input
class EvenMoreScientificCalculator(brand: String) extends ScientificCalculator(brand) {
    def log(m: Int): Double = log(m, math.exp(1))
}
```

### Abstract Classes

You can define an *abstract class*, a class that defines some methods but does not implement them. Instead, subclasses that extend the abstract class define these methods. You can't create an instance of an abstract class.

```input
abstract class Shape {
    def getArea():Int    // subclass should define this
}
```

```input
class Circle(r: Int) extends Shape {
    def getArea():Int = { r * r * 3 }
}
```

```input
val s = new Shape
```
```output
<console>:8: error: class Shape is abstract; cannot be instantiated
       val s = new Shape
               ^
```

```input
val c = new Circle(2)
```
```output
Circle@65c0035b
```

## Traits

`traits` are collections of fields and behaviors that you can extend or mixin to your classes.

```input
trait Car {
    val brand: String
}

trait Shiny {
    val shineRefraction: Int
}
```

```input
class BMW extends Car {
    val brand = "BMW"
}
```

One class can extend several traits using the `with` keyword:

```input
class BMW extends Car with Shiny {
    val brand = "BMW"
    val shineRefraction = 12
}
```

*See Also* Effective Scala has opinions about [trait](http://twitter.github.com/effectivescala/#Object oriented programming-Traits).

*When do you want a Trait instead of an Abstract Class?* If you want to define an interface-like type, you might find it difficult to choose between a trait or an abstract class. Either one lets you define a type with some behavior, asking extenders to define some other behavior. Some rules of thumb:

* Favor using traits. It's handy that a class can extend several traits; a class can extend only one class.
* If you need a constructor parameter, use an abstract class. Abstract class constructors can take parameters; trait constructors can't. For example, you can't say `trait t(i: Int) {}`; the `i` parameter is illegal.

You are not the first person to ask this question. See fuller answers at [stackoverflow:Scala traits vs abstract classes](http://stackoverflow.com/questions/1991042/scala-traits-vs-abstract-classes), [Difference between Abstract Class and Trait](http://stackoverflow.com/questions/2005681/difference-between-abstract-class-and-trait), and [Programming in Scala: To trait, or not to trait?](http://www.artima.com/pins1ed/traits.html#12.7).

## Types

Earlier, you saw that we defined a function that took an `Int` which is a type of Number. Functions can also be generic and work on any type. When that occurs, you'll see a type parameter introduced with the square bracket syntax. Here's an example of a Cache of generic Keys and Values.

```input
trait Cache[K, V] {
  def get(key: K): V
  def put(key: K, value: V)
  def delete(key: K)
}
```

Methods can also have type parameters introduced.

```
def remove[K](key: K)
```
