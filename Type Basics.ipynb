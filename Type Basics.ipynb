{
  "nbformat": 3,
  "nbformat_minor": 0,
  "worksheets": [
    {
      "cells": [
        {
          "source": [
            "This lesson covers:",
            "",
            "* \"What are static types?\":#background",
            "* \"Types in Scala\":#scala",
            "* \"Parametric Polymorphism\":#parametricpoly",
            "* \"Type inference: Hindley-Milner vs. local type inference\":#inference",
            "* \"Variance\":#variance",
            "* \"Bounds\":#bounds",
            "* \"Quantification\":#quantification"
          ],
          "cell_type": "markdown"
        },
        {
          "source": [
            "What are static types? Why are they useful?"
          ],
          "cell_type": "heading",
          "level": 1
        },
        {
          "source": [
            "According to Pierce: \"A type system is a syntactic method for automatically checking the absence of certain erroneous behaviors by classifying program phrases according to the kinds of values they compute.\"",
            "",
            "Types allow you to denote function domain & codomains. For example, from mathematics, we are used to seeing:",
            "",
            "```",
            "f: R -> N",
            "```",
            "",
            "this tells us that function \"f\" maps values from the set of real numbers to values of the set of natural numbers.",
            "",
            "In the abstract, this is exactly what _concrete_ types are. Type systems give us some more powerful ways to express these sets.",
            "",
            "Given these annotations, the compiler can now _statically_ (at compile time) verify that the program is _sound_. That is, compilation will fail if values (at runtime) will not comply to the constraints imposed by the program.",
            "",
            "Generally speaking, the typechecker can only guarantee that _unsound_ programs do not compile. It cannot guarantee that every sound program _will_ compile.",
            "",
            "With increasing expressiveness in type systems, we can produce more reliable code because it allows us to prove invariants about our program before it even runs (modulo bugs in the types themselves, of course!). Academia is pushing the limits of expressiveness very hard, including value-dependent types!",
            "",
            "Note that all type information is removed at compile time. It is no longer needed. This is called erasure."
          ],
          "cell_type": "markdown"
        },
        {
          "source": [
            "Types in Scala"
          ],
          "cell_type": "heading",
          "level": 1
        },
        {
          "source": [
            "Scala's powerful type system allows for very rich expression. Some of its chief features are:",
            "",
            "* *parametric polymorphism* roughly, generic programming",
            "* *(local) type inference* roughly, why you needn't say `val i: Int = 12: Int`",
            "* *existential quantification* roughly, defining something _for some_ unnamed type",
            "* *views* we'll learn these next week; roughly, \"castability\" of values of one type to another"
          ],
          "cell_type": "markdown"
        },
        {
          "source": [
            "Parametric polymorphism"
          ],
          "cell_type": "heading",
          "level": 1
        },
        {
          "source": [
            "Polymorphism is used in order to write generic code (for values of different types) without compromising static typing richness.",
            "",
            "For example, without parametric polymorphism, a generic list data structure would always look like this (and indeed it did look like this in Java prior to generics):"
          ],
          "cell_type": "markdown"
        },
        {
          "input": [
            "2 :: 1 :: \"bar\" :: \"foo\" :: Nil"
          ],
          "cell_type": "code",
          "collapsed": false,
          "outputs": [
            {
              "output_type": "pyout",
              "text": [
                "List(2, 1, bar, foo)"
              ]
            }
          ]
        },
        {
          "source": [
            "Now we cannot recover any type information about the individual members."
          ],
          "cell_type": "markdown"
        },
        {
          "input": [
            "res5.head"
          ],
          "cell_type": "code",
          "collapsed": false,
          "outputs": [
            {
              "output_type": "pyout",
              "text": [
                "2"
              ]
            }
          ]
        },
        {
          "source": [
            "And so our application would devolve into a series of casts (\"asInstanceOf[]\") and we would lack type safety (because these are all dynamic).",
            "",
            "Polymorphism is achieved through specifying _type variables_."
          ],
          "cell_type": "markdown"
        },
        {
          "input": [
            "def drop1[A](l: List[A]) = l.tail"
          ],
          "cell_type": "code",
          "collapsed": false,
          "outputs": []
        },
        {
          "input": [
            "drop1(List(1,2,3))"
          ],
          "cell_type": "code",
          "collapsed": false,
          "outputs": [
            {
              "output_type": "pyout",
              "text": [
                "List(2, 3)"
              ]
            }
          ]
        },
        {
          "source": [
            "Scala has rank-1 polymorphism"
          ],
          "cell_type": "heading",
          "level": 1
        },
        {
          "source": [
            "Roughly, this means that there are some type concepts you'd like to express in Scala that are \"too generic\" for the compiler to understand. Suppose you had some function",
            "",
            "```",
            "def toList[A](a: A) = List(a)",
            "```",
            "",
            "which you wished to use generically:",
            "",
            "```",
            "def foo[A, B](f: A => List[A], b: B) = f(b)",
            "```",
            "",
            "This does not compile, because all type variables have to be fixed at the invocation site. Even if you \"nail down\" type `B`,",
            "",
            "```",
            "def foo[A](f: A => List[A], i: Int) = f(i)",
            "```",
            "",
            "...you get a type mismatch."
          ],
          "cell_type": "markdown"
        },
        {
          "source": [
            "Type inference"
          ],
          "cell_type": "heading",
          "level": 1
        },
        {
          "source": [
            "A traditional objection to static typing is that it has much syntactic overhead. Scala alleviates this by providing _type inference_.",
            "",
            "The classic method for type inference in functional programming languages is _Hindley-Milner_, and it was first employed in ML.",
            "",
            "Scala's type inference system works a little differently, but it's similar in spirit: infer constraints, and attempt to unify a type.",
            "",
            "In Scala, for example, you cannot do the following:"
          ],
          "cell_type": "markdown"
        },
        {
          "input": [
            "{ x => x }"
          ],
          "cell_type": "code",
          "collapsed": false,
          "outputs": [
            {
              "output_type": "pyout",
              "text": [
                "<console>:7: error: missing parameter type",
                "       { x => x }"
              ]
            }
          ]
        },
        {
          "source": [
            "Whereas in OCaml, you can:",
            "",
            "```"
          ],
          "cell_type": "markdown"
        },
        {
          "source": [
            "fun x -> x;;"
          ],
          "cell_type": "heading",
          "level": 1
        },
        {
          "source": [
            "- : 'a -> 'a = <fun>",
            "```",
            "",
            "In scala all type inference is _local_. Scala considers one expression at a time. For example:"
          ],
          "cell_type": "markdown"
        },
        {
          "input": [
            "def id[T](x: T) = x",
            "id: [T](x: T)T"
          ],
          "cell_type": "code",
          "collapsed": false,
          "outputs": []
        },
        {
          "input": [
            "val x = id(322)"
          ],
          "cell_type": "code",
          "collapsed": false,
          "outputs": [
            {
              "output_type": "pyout",
              "text": [
                "322"
              ]
            }
          ]
        },
        {
          "input": [
            "val x = id(\"hey\")"
          ],
          "cell_type": "code",
          "collapsed": false,
          "outputs": [
            {
              "output_type": "pyout",
              "text": [
                "hey"
              ]
            }
          ]
        },
        {
          "input": [
            "val x = id(Array(1,2,3,4))"
          ],
          "cell_type": "code",
          "collapsed": false,
          "outputs": [
            {
              "output_type": "pyout",
              "text": [
                "Array(1, 2, 3, 4)"
              ]
            }
          ]
        },
        {
          "source": [
            "Types are now preserved, The Scala compiler infers the type parameter for us. Note also how we did not have to specify the return type explicitly."
          ],
          "cell_type": "markdown"
        },
        {
          "source": [
            "Variance"
          ],
          "cell_type": "heading",
          "level": 1
        },
        {
          "source": [
            "Scala's type system has to account for class hierarchies together with polymorphism. Class hierarchies allow the expression of subtype relationships. A central question that comes up when mixing OO with polymorphism is: if `T'` is a subclass of `T`, is `Container[T']` considered a subclass of `Container[T]`? Variance annotations allow you to express the following relationships between class hierarchies & polymorphic types:",
            "",
            "```",
            "|                |*Meaning*                     | *Scala notation*|",
            "|*covariant*     |C[T'] is a subclass of C[T]   | [+T]|",
            "|*contravariant* |C[T] is a subclass of C[T']   | [-T]|",
            "|*invariant*     |C[T] and C[T'] are not related| [T]|",
            "```",
            "",
            "The subtype relationship really means: for a given type T, if T' is a subtype, can you substitute it?"
          ],
          "cell_type": "markdown"
        },
        {
          "input": [
            "class Covariant[+A]"
          ],
          "cell_type": "code",
          "collapsed": false,
          "outputs": []
        },
        {
          "input": [
            "val cv: Covariant[AnyRef] = new Covariant[String]"
          ],
          "cell_type": "code",
          "collapsed": false,
          "outputs": [
            {
              "output_type": "pyout",
              "text": [
                "Covariant@4035acf6"
              ]
            }
          ]
        },
        {
          "input": [
            "val cv: Covariant[String] = new Covariant[AnyRef]"
          ],
          "cell_type": "code",
          "collapsed": false,
          "outputs": [
            {
              "output_type": "pyout",
              "text": [
                "<console>:6: error: type mismatch;",
                " found   : Covariant[AnyRef]",
                " required: Covariant[String]",
                "       val cv: Covariant[String] = new Covariant[AnyRef]",
                "                                   ^"
              ]
            }
          ]
        },
        {
          "input": [
            "class Contravariant[-A]"
          ],
          "cell_type": "code",
          "collapsed": false,
          "outputs": []
        },
        {
          "input": [
            "val cv: Contravariant[String] = new Contravariant[AnyRef]"
          ],
          "cell_type": "code",
          "collapsed": false,
          "outputs": [
            {
              "output_type": "pyout",
              "text": [
                "Contravariant@49fa7ba"
              ]
            }
          ]
        },
        {
          "input": [
            "val fail: Contravariant[AnyRef] = new Contravariant[String]"
          ],
          "cell_type": "code",
          "collapsed": false,
          "outputs": [
            {
              "output_type": "pyout",
              "text": [
                "<console>:6: error: type mismatch;",
                " found   : Contravariant[String]",
                " required: Contravariant[AnyRef]",
                "       val fail: Contravariant[AnyRef] = new Contravariant[String]",
                "                                     ^"
              ]
            }
          ]
        },
        {
          "source": [
            "Contravariance seems strange. When is it used? Somewhat surprising!",
            "",
            "```",
            "trait Function1 [-T1, +R] extends AnyRef",
            "```",
            "",
            "If you think about this from the point of view of substitution, it makes a lot of sense. Let's first define a simple class hierarchy:"
          ],
          "cell_type": "markdown"
        },
        {
          "input": [
            "class Animal { val sound = \"rustle\" }"
          ],
          "cell_type": "code",
          "collapsed": false,
          "outputs": []
        },
        {
          "input": [
            "class Bird extends Animal { override val sound = \"call\" }"
          ],
          "cell_type": "code",
          "collapsed": false,
          "outputs": []
        },
        {
          "input": [
            "class Chicken extends Bird { override val sound = \"cluck\" }"
          ],
          "cell_type": "code",
          "collapsed": false,
          "outputs": []
        },
        {
          "source": [
            "Suppose you need a function that takes a `Bird` param:",
            "",
            "```",
            "val getTweet: (Bird => String) = // TODO",
            "```",
            "",
            "The standard animal library has a function that does what you want, but it takes an `Animal` parameter instead. In most situations, if you say \"I need a ___, I have a subclass of ___\", you're OK. But function parameters are contravariant. If you need a function that takes a `Bird` and you have a function that takes an `Chicken`, that function would choke on a `Duck`. But a function that takes an `Animal` is OK:"
          ],
          "cell_type": "markdown"
        },
        {
          "input": [
            "val getTweet: (Bird => String) = ((a: Animal) => a.sound )"
          ],
          "cell_type": "code",
          "collapsed": false,
          "outputs": [
            {
              "output_type": "pyout",
              "text": [
                "<function1>"
              ]
            }
          ]
        },
        {
          "source": [
            "A function's return value type is covariant. If you need a function that returns a `Bird` but have a function that returns a `Chicken`, that's great."
          ],
          "cell_type": "markdown"
        },
        {
          "input": [
            "val hatch: (() => Bird) = (() => new Chicken )",
            "<function0>"
          ],
          "cell_type": "code",
          "collapsed": false,
          "outputs": []
        },
        {
          "source": [
            "Bounds"
          ],
          "cell_type": "heading",
          "level": 1
        },
        {
          "source": [
            "Scala allows you to restrict polymorphic variables using _bounds_. These bounds express subtype relationships."
          ],
          "cell_type": "markdown"
        },
        {
          "input": [
            "def cacophony[T](things: Seq[T]) = things map (_.sound)"
          ],
          "cell_type": "code",
          "collapsed": false,
          "outputs": [
            {
              "output_type": "pyout",
              "text": [
                "<console>:7: error: value sound is not a member of type parameter T",
                "       def cacophony[T](things: Seq[T]) = things map (_.sound)",
                "                                                        ^"
              ]
            }
          ]
        },
        {
          "input": [
            "def biophony[T <: Animal](things: Seq[T]) = things map (_.sound)"
          ],
          "cell_type": "code",
          "collapsed": false,
          "outputs": []
        },
        {
          "input": [
            "biophony(Seq(new Chicken, new Bird))"
          ],
          "cell_type": "code",
          "collapsed": false,
          "outputs": [
            {
              "output_type": "pyout",
              "text": [
                "List(cluck, call)"
              ]
            }
          ]
        },
        {
          "source": [
            "Lower type bounds are also supported; they come in handy with contravariance and clever covariance. `List[+T]` is covariant; a list of Birds is a list of Animals. `List` defines an operator `::(elem T)` that returns a new `List` with `elem` prepended. The new `List` has the same type as the original:"
          ],
          "cell_type": "markdown"
        },
        {
          "input": [
            "val flock = List(new Bird, new Bird)"
          ],
          "cell_type": "code",
          "collapsed": false,
          "outputs": [
            {
              "output_type": "pyout",
              "text": [
                "List(Bird@7e1ec70e, Bird@169ea8d2)"
              ]
            }
          ]
        },
        {
          "input": [
            "new Chicken :: flock"
          ],
          "cell_type": "code",
          "collapsed": false,
          "outputs": [
            {
              "output_type": "pyout",
              "text": [
                "List(Chicken@56fbda05, Bird@7e1ec70e, Bird@169ea8d2)"
              ]
            }
          ]
        },
        {
          "source": [
            "`List` _also_ defines `::[B >: T](x: B)` which returns a `List[B]`. Notice the `B >: T`. That specifies type `B` as a superclass of `T`. That lets us do the right thing when prepending an `Animal` to a `List[Bird]`:"
          ],
          "cell_type": "markdown"
        },
        {
          "input": [
            "new Animal :: flock"
          ],
          "cell_type": "code",
          "collapsed": false,
          "outputs": [
            {
              "output_type": "pyout",
              "text": [
                "List(Animal@11f8d3a8, Bird@7e1ec70e, Bird@169ea8d2)"
              ]
            }
          ]
        },
        {
          "source": [
            "Note that the return type is `Animal`."
          ],
          "cell_type": "markdown"
        },
        {
          "source": [
            "Quantification"
          ],
          "cell_type": "heading",
          "level": 1
        },
        {
          "source": [
            "Sometimes you do not care to be able to name a type variable, for example:"
          ],
          "cell_type": "markdown"
        },
        {
          "input": [
            "def count[A](l: List[A]) = l.size"
          ],
          "cell_type": "code",
          "collapsed": false,
          "outputs": []
        },
        {
          "source": [
            "Instead you can use \"wildcards\":"
          ],
          "cell_type": "markdown"
        },
        {
          "input": [
            "def count(l: List[_]) = l.size"
          ],
          "cell_type": "code",
          "collapsed": false,
          "outputs": []
        },
        {
          "source": [
            "This is shorthand for:"
          ],
          "cell_type": "markdown"
        },
        {
          "input": [
            "def count(l: List[T forSome { type T }]) = l.size"
          ],
          "cell_type": "code",
          "collapsed": false,
          "outputs": []
        },
        {
          "source": [
            "Note that quantification can get tricky:"
          ],
          "cell_type": "markdown"
        },
        {
          "input": [
            "def drop1(l: List[_]) = l.tail"
          ],
          "cell_type": "code",
          "collapsed": false,
          "outputs": []
        },
        {
          "source": [
            "Suddenly we lost type information! To see what's going on, revert to the heavy-handed syntax:"
          ],
          "cell_type": "markdown"
        },
        {
          "input": [
            "def drop1(l: List[T forSome { type T }]) = l.tail"
          ],
          "cell_type": "code",
          "collapsed": false,
          "outputs": []
        },
        {
          "source": [
            "We can't say anything about T because the type does not allow it.",
            "",
            "You may also apply bounds to wildcard type variables:"
          ],
          "cell_type": "markdown"
        },
        {
          "input": [
            "def hashcodes(l: Seq[_ <: AnyRef]) = l map (_.hashCode)"
          ],
          "cell_type": "code",
          "collapsed": false,
          "outputs": []
        },
        {
          "input": [
            "hashcodes(Seq(1,2,3))"
          ],
          "cell_type": "code",
          "collapsed": false,
          "outputs": [
            {
              "output_type": "pyout",
              "text": [
                "<console>:7: error: type mismatch;",
                " found   : Int(1)",
                " required: AnyRef",
                "Note: primitive types are not implicitly converted to AnyRef.",
                "You can safely force boxing by casting x.asInstanceOf[AnyRef].",
                "       hashcodes(Seq(1,2,3))",
                "                     ^"
              ]
            }
          ]
        },
        {
          "input": [
            "hashcodes(Seq(\"one\", \"two\", \"three\"))"
          ],
          "cell_type": "code",
          "collapsed": false,
          "outputs": [
            {
              "output_type": "pyout",
              "text": [
                "List(110182, 115276, 110339486)"
              ]
            }
          ]
        }
      ],
      "metadata": {}
    }
  ],
  "metadata": {
    "name": "Type Basics"
  }
}