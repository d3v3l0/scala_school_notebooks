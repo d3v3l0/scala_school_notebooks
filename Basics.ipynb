{
  "nbformat": 3,
  "nbformat_minor": 0,
  "worksheets": [
    {
      "cells": [
        {
          "source": [
            "This lesson covers:",
            "",
            "* About this class",
            "* Expressions",
            "* Values",
            "* Functions",
            "* Classes",
            "* Basic inheritance",
            "* Traits",
            "* Types"
          ],
          "cell_type": "markdown"
        },
        {
          "source": [
            "About this class"
          ],
          "cell_type": "heading",
          "level": 1
        },
        {
          "source": [
            "The first few weeks will cover basic syntax and concepts, then we'll start to open it up with more exercises."
          ],
          "cell_type": "markdown"
        },
        {
          "source": [
            "Why Scala?"
          ],
          "cell_type": "heading",
          "level": 1
        },
        {
          "source": [
            "* Expressive",
            " * First-class functions",
            " * Closures",
            "* Concise",
            " * Type inference",
            " * Literal syntax for function creation",
            "* Java interoperability",
            " * Can reuse java libraries",
            " * Can reuse java tools",
            " * No performance penalty"
          ],
          "cell_type": "markdown"
        },
        {
          "source": [
            "How Scala?"
          ],
          "cell_type": "heading",
          "level": 1
        },
        {
          "source": [
            "* Compiles to java bytecode",
            "* Works with any standard JVM",
            " * Or even some non-standard JVMs like Dalvik",
            " * Scala compiler written by author of Java compiler"
          ],
          "cell_type": "markdown"
        },
        {
          "source": [
            "Think Scala"
          ],
          "cell_type": "heading",
          "level": 1
        },
        {
          "source": [
            "Scala is not just a nicer Java. You should learn it with a fresh mind; you will get more out of these classes."
          ],
          "cell_type": "markdown"
        },
        {
          "source": [
            "Expressions"
          ],
          "cell_type": "heading",
          "level": 1
        },
        {
          "input": [
            "1 + 1"
          ],
          "cell_type": "code",
          "collapsed": false,
          "outputs": [
            {
              "output_type": "pyout",
              "text": [
                "2"
              ]
            }
          ]
        },
        {
          "source": [
            "`_1` is an automatically created value name given by the interpreter to the result of your expression. It has the type `Int` and contains the integer `2`.",
            "",
            "(Almost) everything in Scala is an expression."
          ],
          "cell_type": "markdown"
        },
        {
          "source": [
            "Values"
          ],
          "cell_type": "heading",
          "level": 1
        },
        {
          "source": [
            "You can give the result of an expression a name."
          ],
          "cell_type": "markdown"
        },
        {
          "input": [
            "val two = 1 + 1"
          ],
          "cell_type": "code",
          "collapsed": false,
          "outputs": [
            {
              "output_type": "pyout",
              "text": [
                "2"
              ]
            }
          ]
        },
        {
          "source": [
            "You cannot change the binding to a `val`."
          ],
          "cell_type": "markdown"
        },
        {
          "source": [
            "Variables"
          ],
          "cell_type": "heading",
          "level": 1
        },
        {
          "source": [
            "If you need to change the binding, you can use a `var` instead."
          ],
          "cell_type": "markdown"
        },
        {
          "input": [
            "var name = \"steve\""
          ],
          "cell_type": "code",
          "collapsed": false,
          "outputs": [
            {
              "output_type": "pyout",
              "text": [
                "steve"
              ]
            }
          ]
        },
        {
          "input": [
            "name = \"marius\""
          ],
          "cell_type": "code",
          "collapsed": false,
          "outputs": [
            {
              "output_type": "pyout",
              "text": [
                "marius"
              ]
            }
          ]
        },
        {
          "source": [
            "Functions"
          ],
          "cell_type": "heading",
          "level": 1
        },
        {
          "source": [
            "You can create functions with `def`."
          ],
          "cell_type": "markdown"
        },
        {
          "input": [
            "def addOne(m: Int): Int = m + 1"
          ],
          "cell_type": "code",
          "collapsed": false,
          "outputs": []
        },
        {
          "source": [
            "In Scala, you need to specify the type signature for function parameters. The interpreter happily repeats the type signature back to you."
          ],
          "cell_type": "markdown"
        },
        {
          "input": [
            "val three = addOne(2)"
          ],
          "cell_type": "code",
          "collapsed": false,
          "outputs": [
            {
              "output_type": "pyout",
              "text": [
                "3"
              ]
            }
          ]
        },
        {
          "source": [
            "You can leave off parens on functions with no arguments."
          ],
          "cell_type": "markdown"
        },
        {
          "input": [
            "def three() = 1 + 2"
          ],
          "cell_type": "code",
          "collapsed": false,
          "outputs": []
        },
        {
          "input": [
            "three()"
          ],
          "cell_type": "code",
          "collapsed": false,
          "outputs": [
            {
              "output_type": "pyout",
              "text": [
                "3"
              ]
            }
          ]
        },
        {
          "input": [
            "three"
          ],
          "cell_type": "code",
          "collapsed": false,
          "outputs": [
            {
              "output_type": "pyout",
              "text": [
                "3"
              ]
            }
          ]
        },
        {
          "source": [
            "Anonymous Functions"
          ],
          "cell_type": "heading",
          "level": 1
        },
        {
          "source": [
            "You can create anonymous functions."
          ],
          "cell_type": "markdown"
        },
        {
          "input": [
            "val f = (x: Int) => x + 1"
          ],
          "cell_type": "code",
          "collapsed": false,
          "outputs": []
        },
        {
          "source": [
            "This function adds 1 to an Int named x."
          ],
          "cell_type": "markdown"
        },
        {
          "input": [
            "f(1)"
          ],
          "cell_type": "code",
          "collapsed": false,
          "outputs": [
            {
              "output_type": "pyout",
              "text": [
                "2"
              ]
            }
          ]
        },
        {
          "source": [
            "You can pass anonymous functions around or save them into vals."
          ],
          "cell_type": "markdown"
        },
        {
          "input": [
            "val addOne = (x: Int) => x + 1"
          ],
          "cell_type": "code",
          "collapsed": false,
          "outputs": []
        },
        {
          "input": [
            "addOne(1)"
          ],
          "cell_type": "code",
          "collapsed": false,
          "outputs": [
            {
              "output_type": "pyout",
              "text": [
                "2"
              ]
            }
          ]
        },
        {
          "source": [
            "If your function is made up of many expressions, you can use `{}` to give yourself some breathing room."
          ],
          "cell_type": "markdown"
        },
        {
          "input": [
            "def timesTwo(i: Int): Int = {",
            "    println(\"hello world\")",
            "    i * 2",
            "}"
          ],
          "cell_type": "code",
          "collapsed": false,
          "outputs": []
        },
        {
          "source": [
            "This is also true of an anonymous function."
          ],
          "cell_type": "markdown"
        },
        {
          "input": [
            "(i: Int) => {",
            "    println(\"hello world\")",
            "    i * 2",
            "}"
          ],
          "cell_type": "code",
          "collapsed": false,
          "outputs": [
            {
              "output_type": "pyout",
              "text": [
                "<function1>"
              ]
            }
          ]
        },
        {
          "source": [
            "You will see this syntax often used when passing an anonymous function as an argument."
          ],
          "cell_type": "markdown"
        },
        {
          "source": [
            "Partial application"
          ],
          "cell_type": "heading",
          "level": 1
        },
        {
          "source": [
            "You can partially apply a function with an underscore, which gives you another function. Scala uses the underscore to mean different things in different contexts, but you can usually think of it as an unnamed magical wildcard. In the context of `{ _ + 2 }` it means an unnamed parameter. You can use it like so:"
          ],
          "cell_type": "markdown"
        },
        {
          "input": [
            "def adder(m: Int, n: Int) = m + n"
          ],
          "cell_type": "code",
          "collapsed": false,
          "outputs": []
        },
        {
          "input": [
            "val add2 = adder(2, _:Int)"
          ],
          "cell_type": "code",
          "collapsed": false,
          "outputs": [
            {
              "output_type": "pyout",
              "text": [
                "<function1>"
              ]
            }
          ]
        },
        {
          "input": [
            "add2(3)"
          ],
          "cell_type": "code",
          "collapsed": false,
          "outputs": [
            {
              "output_type": "pyout",
              "text": [
                "5"
              ]
            }
          ]
        },
        {
          "source": [
            "You can partially apply any argument in the argument list, not just the last one."
          ],
          "cell_type": "markdown"
        },
        {
          "source": [
            "Curried functions"
          ],
          "cell_type": "heading",
          "level": 1
        },
        {
          "source": [
            "Sometimes it makes sense to let people apply some arguments to your function now and others later.",
            "",
            "Here's an example of a function that lets you build multipliers of two numbers together. At one call site, you'll decide which is the multiplier and at a later call site, you'll choose a multiplicand."
          ],
          "cell_type": "markdown"
        },
        {
          "input": [
            "def multiply(m: Int)(n: Int): Int = m * n"
          ],
          "cell_type": "code",
          "collapsed": false,
          "outputs": []
        },
        {
          "source": [
            "You can call it directly with both arguments."
          ],
          "cell_type": "markdown"
        },
        {
          "input": [
            "multiply(2)(3)"
          ],
          "cell_type": "code",
          "collapsed": false,
          "outputs": [
            {
              "output_type": "pyout",
              "text": [
                "6"
              ]
            }
          ]
        },
        {
          "source": [
            "You can fill in the first parameter and partially apply the second."
          ],
          "cell_type": "markdown"
        },
        {
          "input": [
            "val timesTwo = multiply(2) _"
          ],
          "cell_type": "code",
          "collapsed": false,
          "outputs": [
            {
              "output_type": "pyout",
              "text": [
                "<function1>"
              ]
            }
          ]
        },
        {
          "input": [
            "timesTwo(3)"
          ],
          "cell_type": "code",
          "collapsed": false,
          "outputs": [
            {
              "output_type": "pyout",
              "text": [
                "6"
              ]
            }
          ]
        },
        {
          "source": [
            "You can take any function of multiple arguments and curry it. Let's try with our earlier `adder`"
          ],
          "cell_type": "markdown"
        },
        {
          "input": [
            "(adder _).curried"
          ],
          "cell_type": "code",
          "collapsed": false,
          "outputs": [
            {
              "output_type": "pyout",
              "text": [
                "<function1>"
              ]
            }
          ]
        },
        {
          "source": [
            "Variable length arguments"
          ],
          "cell_type": "heading",
          "level": 1
        },
        {
          "source": [
            "There is a special syntax for methods that can take parameters of a repeated type. To apply String's `capitalize` function to several strings, you might write:"
          ],
          "cell_type": "markdown"
        },
        {
          "input": [
            "def capitalizeAll(args: String*) = {",
            "    args.map { arg =>",
            "        arg.capitalize",
            "    }",
            "}"
          ],
          "cell_type": "code",
          "collapsed": false,
          "outputs": []
        },
        {
          "input": [
            "capitalizeAll(\"rarity\", \"applejack\")"
          ],
          "cell_type": "code",
          "collapsed": false,
          "outputs": [
            {
              "output_type": "pyout",
              "text": [
                "ArrayBuffer(Rarity, Applejack)"
              ]
            }
          ]
        },
        {
          "source": [
            "Classes"
          ],
          "cell_type": "heading",
          "level": 1
        },
        {
          "input": [
            "class Calculator {",
            "    val brand: String = \"HP\"",
            "    def add(m: Int, n: Int): Int = m + n",
            "}"
          ],
          "cell_type": "code",
          "collapsed": false,
          "outputs": []
        },
        {
          "input": [
            "val calc = new Calculator"
          ],
          "cell_type": "code",
          "collapsed": false,
          "outputs": [
            {
              "output_type": "pyout",
              "text": [
                "Calculator@e75a11"
              ]
            }
          ]
        },
        {
          "input": [
            "calc.add(1, 2)"
          ],
          "cell_type": "code",
          "collapsed": false,
          "outputs": [
            {
              "output_type": "pyout",
              "text": [
                "3"
              ]
            }
          ]
        },
        {
          "input": [
            "calc.brand"
          ],
          "cell_type": "code",
          "collapsed": false,
          "outputs": [
            {
              "output_type": "pyout",
              "text": [
                "\"HP\""
              ]
            }
          ]
        },
        {
          "source": [
            "Contained are examples are defining methods with def and fields with `val`. Methods are just functions that can access the state of the class."
          ],
          "cell_type": "markdown"
        },
        {
          "source": [
            "Constructor"
          ],
          "cell_type": "heading",
          "level": 1
        },
        {
          "source": [
            "Constructors aren't special methods, they are the code outside of method definitions in your class. Let's extend our Calculator example to take a constructor argument and use it to initialize internal state."
          ],
          "cell_type": "markdown"
        },
        {
          "input": [
            "class Calculator(brand: String) {",
            "    /**",
            "     * A constructor.",
            "     */",
            "    val color: String = if (brand == \"TI\") {",
            "        \"blue\"",
            "    } else if (brand == \"HP\") {",
            "        \"black\"",
            "    } else {",
            "        \"white\"",
            "    }",
            "",
            "    // An instance method.",
            "    def add(m: Int, n: Int): Int = m + n",
            "}"
          ],
          "cell_type": "code",
          "collapsed": false,
          "outputs": []
        },
        {
          "source": [
            "Note the two different styles of comments.",
            "",
            "You can use the constructor to construct an instance:"
          ],
          "cell_type": "markdown"
        },
        {
          "input": [
            "val calc = new Calculator(\"HP\")"
          ],
          "cell_type": "code",
          "collapsed": false,
          "outputs": [
            {
              "output_type": "pyout",
              "text": [
                "Calculator@1e64cc4d"
              ]
            }
          ]
        },
        {
          "input": [
            "calc.color"
          ],
          "cell_type": "code",
          "collapsed": false,
          "outputs": [
            {
              "output_type": "pyout",
              "text": [
                "black"
              ]
            }
          ]
        },
        {
          "source": [
            "Expressions"
          ],
          "cell_type": "heading",
          "level": 1
        },
        {
          "source": [
            "Our BasicCalculator example gave an example of how Scala is expression-oriented. The value color was bound based on an if/else expression. Scala is highly expression-oriented: most things are expressions rather than statements."
          ],
          "cell_type": "markdown"
        },
        {
          "source": [
            "Aside: Functions vs Methods"
          ],
          "cell_type": "heading",
          "level": 1
        },
        {
          "source": [
            "Functions and methods are largely interchangeable. Because functions and methods are so similar, you might not remember whether that *thing* you call is a function or a method. When you bump into a difference between methods and functions, it might confuse you."
          ],
          "cell_type": "markdown"
        },
        {
          "input": [
            "class C {",
            "    var acc = 0",
            "    def minc = { acc += 1 }",
            "    val finc = { () => acc += 1 }",
            "}"
          ],
          "cell_type": "code",
          "collapsed": false,
          "outputs": []
        },
        {
          "input": [
            "val c = new C"
          ],
          "cell_type": "code",
          "collapsed": false,
          "outputs": [
            {
              "output_type": "pyout",
              "text": [
                "C@1af1bd6"
              ]
            }
          ]
        },
        {
          "input": [
            "c.minc // calls c.minc()"
          ],
          "cell_type": "code",
          "collapsed": false,
          "outputs": []
        },
        {
          "input": [
            "c.finc // returns the function as a value:"
          ],
          "cell_type": "code",
          "collapsed": false,
          "outputs": [
            {
              "output_type": "pyout",
              "text": [
                "<function0>"
              ]
            }
          ]
        },
        {
          "source": [
            "When you can call one \"function\" without parentheses but not another, you might think *Whoops, I thought I knew how Scala functions worked, but I guess not. Maybe they sometimes need parentheses?* You might understand functions, but be using a method.",
            "",
            "In practice, you can do great things in Scala while remaining hazy on the difference between methods and functions. If you're new to Scala and read [explanations of the differences](https://www.google.com/search?q=difference+scala+function+method\"), you might have trouble following them. That doesn't mean you're going to have trouble using Scala. It just means that the difference between functions and methods is subtle enough such that explanations tend to dig into deep parts of the language."
          ],
          "cell_type": "markdown"
        },
        {
          "source": [
            "Inheritance"
          ],
          "cell_type": "heading",
          "level": 1
        },
        {
          "input": [
            "class ScientificCalculator(brand: String) extends Calculator(brand) {",
            "    def log(m: Double, base: Double) = math.log(m) / math.log(base)",
            "}"
          ],
          "cell_type": "code",
          "collapsed": false,
          "outputs": []
        },
        {
          "source": [
            "*See Also* Effective Scala points out that a [Type alias](\"http://twitter.github.com/effectivescala/#Types%20and%20Generics-Type%20aliases\") is better than `extends` if the subclass isn't actually different from the superclass. A Tour of Scala describes [Subclassing](\"http://www.scala-lang.org/node/125\")."
          ],
          "cell_type": "markdown"
        },
        {
          "source": [
            "Overloading methods"
          ],
          "cell_type": "heading",
          "level": 1
        },
        {
          "input": [
            "class EvenMoreScientificCalculator(brand: String) extends ScientificCalculator(brand) {",
            "    def log(m: Int): Double = log(m, math.exp(1))",
            "}"
          ],
          "cell_type": "code",
          "collapsed": false,
          "outputs": []
        },
        {
          "source": [
            "Abstract Classes"
          ],
          "cell_type": "heading",
          "level": 1
        },
        {
          "source": [
            "You can define an *abstract class*, a class that defines some methods but does not implement them. Instead, subclasses that extend the abstract class define these methods. You can't create an instance of an abstract class."
          ],
          "cell_type": "markdown"
        },
        {
          "input": [
            "abstract class Shape {",
            "    def getArea():Int    // subclass should define this",
            "}"
          ],
          "cell_type": "code",
          "collapsed": false,
          "outputs": []
        },
        {
          "input": [
            "class Circle(r: Int) extends Shape {",
            "    def getArea():Int = { r * r * 3 }",
            "}"
          ],
          "cell_type": "code",
          "collapsed": false,
          "outputs": []
        },
        {
          "input": [
            "val s = new Shape"
          ],
          "cell_type": "code",
          "collapsed": false,
          "outputs": [
            {
              "output_type": "pyout",
              "text": [
                "<console>:8: error: class Shape is abstract; cannot be instantiated",
                "       val s = new Shape",
                "               ^"
              ]
            }
          ]
        },
        {
          "input": [
            "val c = new Circle(2)"
          ],
          "cell_type": "code",
          "collapsed": false,
          "outputs": [
            {
              "output_type": "pyout",
              "text": [
                "Circle@65c0035b"
              ]
            }
          ]
        },
        {
          "source": [
            "Traits"
          ],
          "cell_type": "heading",
          "level": 1
        },
        {
          "source": [
            "`traits` are collections of fields and behaviors that you can extend or mixin to your classes."
          ],
          "cell_type": "markdown"
        },
        {
          "input": [
            "trait Car {",
            "    val brand: String",
            "}",
            "",
            "trait Shiny {",
            "    val shineRefraction: Int",
            "}"
          ],
          "cell_type": "code",
          "collapsed": false,
          "outputs": []
        },
        {
          "input": [
            "class BMW extends Car {",
            "    val brand = \"BMW\"",
            "}"
          ],
          "cell_type": "code",
          "collapsed": false,
          "outputs": []
        },
        {
          "source": [
            "One class can extend several traits using the `with` keyword:"
          ],
          "cell_type": "markdown"
        },
        {
          "input": [
            "class BMW extends Car with Shiny {",
            "    val brand = \"BMW\"",
            "    val shineRefraction = 12",
            "}"
          ],
          "cell_type": "code",
          "collapsed": false,
          "outputs": []
        },
        {
          "source": [
            "*See Also* Effective Scala has opinions about [trait](http://twitter.github.com/effectivescala/#Object oriented programming-Traits).",
            "",
            "*When do you want a Trait instead of an Abstract Class?* If you want to define an interface-like type, you might find it difficult to choose between a trait or an abstract class. Either one lets you define a type with some behavior, asking extenders to define some other behavior. Some rules of thumb:",
            "",
            "* Favor using traits. It's handy that a class can extend several traits; a class can extend only one class.",
            "* If you need a constructor parameter, use an abstract class. Abstract class constructors can take parameters; trait constructors can't. For example, you can't say `trait t(i: Int) {}`; the `i` parameter is illegal.",
            "",
            "You are not the first person to ask this question. See fuller answers at [stackoverflow:Scala traits vs abstract classes](http://stackoverflow.com/questions/1991042/scala-traits-vs-abstract-classes), [Difference between Abstract Class and Trait](http://stackoverflow.com/questions/2005681/difference-between-abstract-class-and-trait), and [Programming in Scala: To trait, or not to trait?](http://www.artima.com/pins1ed/traits.html#12.7)."
          ],
          "cell_type": "markdown"
        },
        {
          "source": [
            "Types"
          ],
          "cell_type": "heading",
          "level": 1
        },
        {
          "source": [
            "Earlier, you saw that we defined a function that took an `Int` which is a type of Number. Functions can also be generic and work on any type. When that occurs, you'll see a type parameter introduced with the square bracket syntax. Here's an example of a Cache of generic Keys and Values."
          ],
          "cell_type": "markdown"
        },
        {
          "input": [
            "trait Cache[K, V] {",
            "  def get(key: K): V",
            "  def put(key: K, value: V)",
            "  def delete(key: K)",
            "}"
          ],
          "cell_type": "code",
          "collapsed": false,
          "outputs": []
        }
      ],
      "metadata": {}
    }
  ],
  "metadata": {}
}