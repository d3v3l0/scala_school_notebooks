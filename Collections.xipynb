This lesson covers:

* Basic Data Structures
 * Lists
 * Sets
 * Tuple
 * Maps
* Functional Combinators
 * map
 * foreach
 * filter
 * zip
 * partition
 * find
 * drop and dropWhile
 * foldRight and foldLeft
 * flatten
 * flatMap
 * Generalized functional combinators
 * Map?

# Basic Data Structures

Scala provides some nice collections.

*See Also* Effective Scala has opinions about how to use [collections](http://twitter.github.com/effectivescala/#Collections).

## Lists

```input
val numbers = List(1, 2, 3, 4)
```
```output
List(1, 2, 3, 4)
```

## Sets

Sets have no duplicates

```input
Set(1, 1, 2)
```
```output
Set(1, 2)
```

## Tuple

A tuple groups together simple logical collections of items without using a class.

```input
val hostPort = ("localhost", 80)
```
```output
(localhost, 80)
```

Unlike case classes, they don't have named accessors, instead they have accessors that are named by their position and is 1-based rather than 0-based.

```input
hostPort._1
```
```output
localhost
```

```input
hostPort._2
```
```output
80
```

Tuples fit with pattern matching nicely.

```
hostPort match {
  case ("localhost", port) => ...
  case (host, port) => ...
}
```

Tuple has some special sauce for simply making Tuples of 2 values: `->`

```input
1 -> 2
(1,2)
```

*See Also* Effective Scala has opinions about [destructuring bindings](http://twitter.github.com/effectivescala/#Functional programming-Destructuring bindings) ("unpacking" a tuple).

## Maps

It can hold basic datatypes.

```input
Map(1 -> 2)
Map("foo" -> "bar")
```

This looks like special syntax but remember back to our discussion of Tuple that `->` can be use to create Tuples.

`Map()` also uses that variable argument syntax we learned back in Lesson #1: `Map(1 -> "one", 2 -> "two")` which expands into `Map((1, "one"), (2, "two"))` with the first element being the key and the second being the value of the Map.

Maps can themselves contain Maps or even functions as values.

```input
Map(1 -> Map("foo" -> "bar"))
```

```input
Map("timesTwo" -> { timesTwo(_) })
```

## Option

`Option` is a container that may or may not hold something.

The basic interface for Option looks like:

```input
trait Option[T] {
  def isDefined: Boolean
  def get: T
  def getOrElse(t: T): T
}
```

Option itself is generic and has two subclasses: `Some[T]` or `None`

Let's look at an example of how Option is used:

`Map.get` uses `Option` for its return type. Option tells you that the method might not return what you're asking for.

```input
val numbers = Map(1 -> "one", 2 -> "two")
```
```output
Map((1,one), (2,two))
```

```input
numbers.get(2)
```
```output
Some(two)
```

```input
numbers.get(3)
```
```output
None
```

Now our data appears trapped in this `Option`. How do we work with it?

A first instinct might be to do something conditionally based on the `isDefined` method.

```input
// We want to multiply the number by two, otherwise return 0.
val result = if (res1.isDefined) {
  res1.get * 2
} else {
  0
}
```

We would suggest that you use either `getOrElse` or pattern matching to work with this result.

`getOrElse` lets you easily define a default value.

```input
val result = res1.getOrElse(0) * 2
```

Pattern matching fits naturally with `Option`.

```input
val result = res1 match {
  case Some(n) => n * 2
  case None => 0
}
```

*See Also* Effective Scala has opinions about [Options](http://twitter.github.com/effectivescala/#Functional programming-Options).

# Functional Combinators

`List(1, 2, 3) map squared` applies the function `squared` to the elements of the the list, returning a new list, perhaps `List(1, 4, 9)`. We call operations like `map` *combinators*. (If you'd like a better definition, you might like [Explanation of combinators](http://stackoverflow.com/questions/7533837/explanation-of-combinators-for-the-working-man) on Stackoverflow.) Their most common use is on the standard data structures.

## map

Evaluates a function over each element in the list, returning a list with the same number of elements.

```input
numbers.map((i: Int) => i * 2)
```
```output
List(2, 4, 6, 8)
```

or pass in a partially evaluated function

```input
def timesTwo(i: Int): Int = i * 2
```

```input
numbers.map(timesTwo _)
```
```output
List(2, 4, 6, 8)
```

## foreach

foreach is like map but returns nothing. foreach is intended for side-effects only.

```input
numbers.foreach((i: Int) => i * 2)
```

returns nothing.

You can try to store the return in a value but it'll be of type Unit (i.e. void)

```input
val doubled = numbers.foreach((i: Int) => i * 2)
```
```output
()
```

## filter

removes any elements where the function you pass in evaluates to false. Functions that return a Boolean are often called predicate functions.

```input
numbers.filter((i: Int) => i % 2 == 0)
```
```output
List(2, 4)
```

```input
def isEven(i: Int): Boolean = i % 2 == 0
```

```input
numbers.filter(isEven _)
```
```output
List(2, 4)
```

## zip

zip aggregates the contents of two lists into a single list of pairs.

```input
List(1, 2, 3).zip(List("a", "b", "c"))
```
```output
List((1,a), (2,b), (3,c))
```

## partition

`partition` splits a list based on where it falls with respect to a predicate function.

```input
val numbers = List(1, 2, 3, 4, 5, 6, 7, 8, 9, 10)
numbers.partition(_ %2 == 0)
```
```output
(List(2, 4, 6, 8, 10),List(1, 3, 5, 7, 9))
```

## find

find returns the first element of a collection that matches a predicate function.

```input
numbers.find((i: Int) => i > 5)
```
```output
Some(6)
```

## drop & dropWhile

`drop` drops the first i elements

```input
numbers.drop(5)
```
```output
List(6, 7, 8, 9, 10)
```

`dropWhile` removes the first elements that match a predicate function. For example, if we `dropWhile` odd numbers from our list of numbers, `1` gets dropped (but not `3` which is "shielded" by `2`).

```input
numbers.dropWhile(_ % 2 != 0)
```
```output
List(2, 3, 4, 5, 6, 7, 8, 9, 10)
```

## foldLeft

```input
numbers.foldLeft(0)((m: Int, n: Int) => m + n)
```
```output
55
```

0 is the starting value (Remember that numbers is a List[Int]), and m
acts as an accumulator.

Seen visually:

```input
numbers.foldLeft(0) { (m: Int, n: Int) => println("m: " + m + " n: " + n); m + n }
```
```stdout
m: 0 n: 1
m: 1 n: 2
m: 3 n: 3
m: 6 n: 4
m: 10 n: 5
m: 15 n: 6
m: 21 n: 7
m: 28 n: 8
m: 36 n: 9
m: 45 n: 10
```
```output
55
```

### foldRight

Is the same as foldLeft except it runs in the opposite direction.

```input
numbers.foldRight(0) { (m: Int, n: Int) => println("m: " + m + " n: " + n); m + n }
```
```stdout
m: 10 n: 0
m: 9 n: 10
m: 8 n: 19
m: 7 n: 27
m: 6 n: 34
m: 5 n: 40
m: 4 n: 45
m: 3 n: 49
m: 2 n: 52
m: 1 n: 54
```
```output
55
```

## flatten

flatten collapses one level of nested structure.

```input
List(List(1, 2), List(3, 4)).flatten
```
```output
List(1, 2, 3, 4)
```

## flatMap

flatMap is a frequently used combinator that combines mapping and flattening. flatMap takes a function that works on the nested lists and then concatenates the results back together.

```input
val nestedNumbers = List(List(1, 2), List(3, 4))
```
```output
List(List(1, 2), List(3, 4))
```

```input
nestedNumbers.flatMap(x => x.map(_ * 2))
```
```output
List(2, 4, 6, 8)
```

Think of it as short-hand for mapping and then flattening:

```input
nestedNumbers.map((x: List[Int]) => x.map(_ * 2)).flatten
```
```output
List(2, 4, 6, 8)
```

that example calling map and then flatten is an example of the "combinator"-like nature of these functions.

*See Also* Effective Scala has opinions about [flatMap](http://twitter.github.com/effectivescala/#Functional programming-`flatMap`).

## Generalized functional combinators

Now we've learned a grab-bag of functions for working with collections.

What we'd like is to be able to write our own functional combinators.

Interestingly, every functional combinator shown above can be written on top of fold. Let's see some examples.

```
def ourMap(numbers: List[Int], fn: Int => Int): List[Int] = {
  numbers.foldRight(List[Int]()) { (x: Int, xs: List[Int]) =>
    fn(x) :: xs
  }
}
```

```input
ourMap(numbers, timesTwo(_))
```
```output
List(2, 4, 6, 8, 10, 12, 14, 16, 18, 20)
```

Why `List[Int]()`? Scala wasn't smart enough to realize that you wanted an empty list of Ints to accumulate into.

## Map?

All of the functional combinators shown work on Maps, too. Maps can be thought of as a list of pairs so the functions you write work on a pair of the keys and values in the Map.

```input
val extensions = Map("steve" -> 100, "bob" -> 101, "joe" -> 201)
```
```output
Map((steve,100), (bob,101), (joe,201))
```

Now filter out every entry whose phone extension is lower than 200.

```input
extensions.filter((namePhone: (String, Int)) => namePhone._2 < 200)
```
```output
Map((steve,100), (bob,101))
```

Because it gives you a tuple, you have to pull out the keys and values with their positional accessors. Yuck!

Lucky us, we can actually use a pattern match to extract the key and value nicely.

```input
extensions.filter({case (name, extension) => extension < 200})
```
```output
Map((steve,100), (bob,101))
```

Why does this work? Why can you pass in a partial pattern match?

Stay tuned for next week!
